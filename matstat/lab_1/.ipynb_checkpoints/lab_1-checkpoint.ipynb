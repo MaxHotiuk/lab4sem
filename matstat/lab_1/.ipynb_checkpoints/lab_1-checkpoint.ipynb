{
 "cells": [
  {
   "cell_type": "code",
   "execution_count": 1,
   "metadata": {
    "executionInfo": {
     "elapsed": 8,
     "status": "ok",
     "timestamp": 1701809959243,
     "user": {
      "displayName": "Paul Red",
      "userId": "14826925032240446715"
     },
     "user_tz": -120
    },
    "id": "WKuduJhPGaih"
   },
   "outputs": [],
   "source": [
    "import random\n",
    "\n",
    "import math\n",
    "import numpy as np\n",
    "import matplotlib.pyplot as plt\n",
    "\n",
    "import ipywidgets as widgets\n",
    "from ipywidgets import interact\n",
    "\n",
    "import pandas as pd"
   ]
  },
  {
   "cell_type": "markdown",
   "metadata": {
    "id": "fxGxGMjpGain"
   },
   "source": [
    "# Input + sample generation"
   ]
  },
  {
   "cell_type": "code",
   "execution_count": 2,
   "metadata": {
    "colab": {
     "base_uri": "https://localhost:8080/",
     "height": 66,
     "referenced_widgets": [
      "6bc2e097fbc64e9a84d5571b90cf6e35",
      "7b900f5d405f476691667ec7a8703d1f",
      "5dd495461ebe4414ac11cedd1e65c557"
     ]
    },
    "executionInfo": {
     "elapsed": 288,
     "status": "ok",
     "timestamp": 1701809969785,
     "user": {
      "displayName": "Paul Red",
      "userId": "14826925032240446715"
     },
     "user_tz": -120
    },
    "id": "XY3QlyioGaio",
    "outputId": "6f5dd93e-0220-4615-a333-5e30c928da8c"
   },
   "outputs": [
    {
     "name": "stdout",
     "output_type": "stream",
     "text": [
      "Розмір вибірки:\n"
     ]
    },
    {
     "data": {
      "application/vnd.jupyter.widget-view+json": {
       "model_id": "7e6e8ebd8cb340cc81e881ef062fe39d",
       "version_major": 2,
       "version_minor": 0
      },
      "text/plain": [
       "IntText(value=50)"
      ]
     },
     "execution_count": 2,
     "metadata": {},
     "output_type": "execute_result"
    }
   ],
   "source": [
    "print('Розмір вибірки:')\n",
    "size = widgets.IntText(value=50)\n",
    "size"
   ]
  },
  {
   "cell_type": "code",
   "execution_count": 3,
   "metadata": {
    "colab": {
     "base_uri": "https://localhost:8080/",
     "height": 84,
     "referenced_widgets": [
      "cc09e74c1f2747ca9e5725e4a3898f38",
      "5a9c689337ea4074b1d4699518410738",
      "309ed3a1e6264a44904fec7c17622b0d",
      "e2fa7cafad954350bd4c5b01b07070e7",
      "be68bbd3631148e5821fe3182ee8b131",
      "ccf256c8e2544757a5033a6fe8c3c90a",
      "a4cc80d148c74b119dfd810f378a72c5",
      "13f27b9f7ed94cea808b7e44675cc277",
      "6bb72d2736064f40af99448851a0ca19",
      "f5fdc1212f6641b59810e306796142b7"
     ]
    },
    "executionInfo": {
     "elapsed": 264,
     "status": "ok",
     "timestamp": 1701809972624,
     "user": {
      "displayName": "Paul Red",
      "userId": "14826925032240446715"
     },
     "user_tz": -120
    },
    "id": "wVoocdEnGaip",
    "outputId": "d9bf2e73-40dc-45b9-ce2d-bd4bf82da314"
   },
   "outputs": [
    {
     "name": "stdout",
     "output_type": "stream",
     "text": [
      "Межі вибірки\n"
     ]
    },
    {
     "data": {
      "application/vnd.jupyter.widget-view+json": {
       "model_id": "63c70e8cdc124f13839b9ad2d080e8c6",
       "version_major": 2,
       "version_minor": 0
      },
      "text/plain": [
       "HBox(children=(IntText(value=0), IntText(value=15)))"
      ]
     },
     "metadata": {},
     "output_type": "display_data"
    },
    {
     "data": {
      "application/vnd.jupyter.widget-view+json": {
       "model_id": "8629b9f781f1464a8dfe2f0234fd0935",
       "version_major": 2,
       "version_minor": 0
      },
      "text/plain": [
       "Output()"
      ]
     },
     "metadata": {},
     "output_type": "display_data"
    }
   ],
   "source": [
    "a = widgets.IntText(value=0)\n",
    "b = widgets.IntText(value=15)\n",
    "ui = widgets.HBox([a, b])\n",
    "def f(a, b):\n",
    "    print((a, b))\n",
    "\n",
    "print('Межі вибірки')\n",
    "out = widgets.interactive_output(f, {'a': a, 'b': b})\n",
    "\n",
    "display(ui, out)\n",
    "\n",
    "sampleSize = size.value"
   ]
  },
  {
   "cell_type": "code",
   "execution_count": 4,
   "metadata": {
    "colab": {
     "base_uri": "https://localhost:8080/"
    },
    "executionInfo": {
     "elapsed": 270,
     "status": "ok",
     "timestamp": 1701809975452,
     "user": {
      "displayName": "Paul Red",
      "userId": "14826925032240446715"
     },
     "user_tz": -120
    },
    "id": "2MlwzFkPGaip",
    "outputId": "40f23505-2b84-4065-c7e6-55c68f504551"
   },
   "outputs": [
    {
     "name": "stdout",
     "output_type": "stream",
     "text": [
      "Вибірка:  [3, 7, 7, 9, 1, 15, 14, 4, 14, 13, 2, 0, 2, 7, 8, 2, 4, 15, 2, 1, 13, 2, 0, 6, 12, 11, 14, 1, 12, 13, 4, 10, 14, 7, 3, 8, 15, 11, 9, 9, 0, 8, 5, 6, 2, 13, 15, 12, 7, 3] \n",
      "\n",
      "Варіаційний ряд:  [0, 0, 0, 1, 1, 1, 2, 2, 2, 2, 2, 2, 3, 3, 3, 4, 4, 4, 5, 6, 6, 7, 7, 7, 7, 7, 8, 8, 8, 9, 9, 9, 10, 11, 11, 12, 12, 12, 13, 13, 13, 13, 14, 14, 14, 14, 15, 15, 15, 15]\n"
     ]
    }
   ],
   "source": [
    "sample = [random.randint(a.value, b.value) for i in range(sampleSize)]\n",
    "print('Вибірка: ', sample, '\\n')\n",
    "sample = sorted(sample)\n",
    "print('Варіаційний ряд: ', sample)"
   ]
  },
  {
   "cell_type": "markdown",
   "metadata": {
    "id": "eVlyzd4HGaip"
   },
   "source": [
    "# Probability distributions table"
   ]
  },
  {
   "cell_type": "code",
   "execution_count": 5,
   "metadata": {
    "colab": {
     "base_uri": "https://localhost:8080/"
    },
    "executionInfo": {
     "elapsed": 5,
     "status": "ok",
     "timestamp": 1701809977566,
     "user": {
      "displayName": "Paul Red",
      "userId": "14826925032240446715"
     },
     "user_tz": -120
    },
    "id": "ADQc0ivYGaiq",
    "outputId": "f1da858c-96e2-48e7-8928-0c1226ea7838"
   },
   "outputs": [
    {
     "data": {
      "text/html": [
       "<div>\n",
       "<style scoped>\n",
       "    .dataframe tbody tr th:only-of-type {\n",
       "        vertical-align: middle;\n",
       "    }\n",
       "\n",
       "    .dataframe tbody tr th {\n",
       "        vertical-align: top;\n",
       "    }\n",
       "\n",
       "    .dataframe thead th {\n",
       "        text-align: right;\n",
       "    }\n",
       "</style>\n",
       "<table border=\"1\" class=\"dataframe\">\n",
       "  <thead>\n",
       "    <tr style=\"text-align: right;\">\n",
       "      <th></th>\n",
       "      <th>0</th>\n",
       "      <th>1</th>\n",
       "      <th>2</th>\n",
       "      <th>3</th>\n",
       "      <th>4</th>\n",
       "      <th>5</th>\n",
       "      <th>6</th>\n",
       "      <th>7</th>\n",
       "      <th>8</th>\n",
       "      <th>9</th>\n",
       "      <th>10</th>\n",
       "      <th>11</th>\n",
       "      <th>12</th>\n",
       "      <th>13</th>\n",
       "      <th>14</th>\n",
       "      <th>15</th>\n",
       "    </tr>\n",
       "  </thead>\n",
       "  <tbody>\n",
       "    <tr>\n",
       "      <th>0</th>\n",
       "      <td>3</td>\n",
       "      <td>3</td>\n",
       "      <td>6</td>\n",
       "      <td>3</td>\n",
       "      <td>3</td>\n",
       "      <td>1</td>\n",
       "      <td>2</td>\n",
       "      <td>5</td>\n",
       "      <td>3</td>\n",
       "      <td>3</td>\n",
       "      <td>1</td>\n",
       "      <td>2</td>\n",
       "      <td>3</td>\n",
       "      <td>4</td>\n",
       "      <td>4</td>\n",
       "      <td>4</td>\n",
       "    </tr>\n",
       "  </tbody>\n",
       "</table>\n",
       "</div>"
      ],
      "text/plain": [
       "   0   1   2   3   4   5   6   7   8   9   10  11  12  13  14  15\n",
       "0   3   3   6   3   3   1   2   5   3   3   1   2   3   4   4   4"
      ]
     },
     "execution_count": 5,
     "metadata": {},
     "output_type": "execute_result"
    }
   ],
   "source": [
    "numCount = {}\n",
    "uniqueVariation = sorted(list(set(sample)))\n",
    "for num in uniqueVariation:\n",
    "    numCount[num] = sample.count(num)\n",
    "tb = pd.Series(numCount).to_frame().T\n",
    "tb"
   ]
  },
  {
   "cell_type": "markdown",
   "metadata": {
    "id": "T19q9tflGaiq"
   },
   "source": [
    "# Frequencies"
   ]
  },
  {
   "cell_type": "code",
   "execution_count": 6,
   "metadata": {
    "colab": {
     "base_uri": "https://localhost:8080/",
     "height": 468
    },
    "executionInfo": {
     "elapsed": 694,
     "status": "ok",
     "timestamp": 1701809980517,
     "user": {
      "displayName": "Paul Red",
      "userId": "14826925032240446715"
     },
     "user_tz": -120
    },
    "id": "mx14i1ZkGaiq",
    "outputId": "516aad91-b8e4-43e1-89ea-2b2a0fd030d8"
   },
   "outputs": [
    {
     "data": {
      "image/png": "[encoded data removed]",
      "text/plain": [
       "<Figure size 1000x500 with 1 Axes>"
      ]
     },
     "metadata": {},
     "output_type": "display_data"
    }
   ],
   "source": [
    "plt.figure(figsize=(10,5))\n",
    "plt.title('Частоти')\n",
    "plt.plot(numCount.keys(),\n",
    "        numCount.values(),\n",
    "        color='red',\n",
    "        label='Полігон частот')\n",
    "plt.stem(numCount.keys(),\n",
    "        numCount.values(),\n",
    "        label='Діаграма частот')\n",
    "\n",
    "plt.legend()\n",
    "plt.show()"
   ]
  },
  {
   "cell_type": "markdown",
   "metadata": {
    "id": "4YGRJ08DGaiq"
   },
   "source": [
    "# Empirical distribution function"
   ]
  },
  {
   "cell_type": "code",
   "execution_count": 7,
   "metadata": {
    "colab": {
     "base_uri": "https://localhost:8080/",
     "height": 468
    },
    "executionInfo": {
     "elapsed": 365,
     "status": "ok",
     "timestamp": 1701809984000,
     "user": {
      "displayName": "Paul Red",
      "userId": "14826925032240446715"
     },
     "user_tz": -120
    },
    "id": "O2GFYhqoGair",
    "outputId": "6893f1f2-324b-4b49-b6c1-37e14c8cedd8"
   },
   "outputs": [
    {
     "data": {
      "image/png": "[encoded data removed]",
      "text/plain": [
       "<Figure size 640x480 with 1 Axes>"
      ]
     },
     "metadata": {},
     "output_type": "display_data"
    }
   ],
   "source": [
    "x = list(numCount.keys())\n",
    "x.append(x[-1] + 1)\n",
    "y = list(numCount.values())\n",
    "\n",
    "ecdf = np.cumsum(y) / np.sum(y)\n",
    "\n",
    "plt.hlines(ecdf, x[:-1], x[1:])\n",
    "plt.xlabel('x')\n",
    "plt.ylabel('F(х)')\n",
    "plt.title('Емпірична функція розподілу')\n",
    "plt.show()"
   ]
  },
  {
   "cell_type": "markdown",
   "metadata": {
    "id": "uGErCdn0Gair"
   },
   "source": [
    "# Numerical characteristics"
   ]
  },
  {
   "cell_type": "code",
   "execution_count": 128,
   "metadata": {
    "colab": {
     "base_uri": "https://localhost:8080/"
    },
    "executionInfo": {
     "elapsed": 257,
     "status": "ok",
     "timestamp": 1701809987182,
     "user": {
      "displayName": "Paul Red",
      "userId": "14826925032240446715"
     },
     "user_tz": -120
    },
    "id": "Bdl4NsOwGair",
    "outputId": "3b5763cc-d5eb-4968-a2dc-0ddc749f4744"
   },
   "outputs": [
    {
     "name": "stdout",
     "output_type": "stream",
     "text": [
      "Середньовибіркове (Mean): 7.5\n",
      "Медіана (Median): 7.0\n",
      "Мода (Mode): 2\n",
      "Розмах (Range): 15\n",
      "Девіація (Deviation): 24.01\n",
      "Варіанса (Variance): 24.5\n",
      "Стандарт (Standard Deviation): 4.949747468305833\n",
      "Варіація (Coefficient of Variation): 65.99663291074444\n",
      "Дисперсія (Dispersion): 24.5\n",
      "Середньоквадратичне відхилення (Root Mean Square Deviation): 4.949747468305833\n",
      "Асиметрія: 0.05343500807100674\n",
      "Ексцес:  -1.4303498542274053\n"
     ]
    }
   ],
   "source": [
    "mean = sum(sample) / len(sample)\n",
    "print('Середньовибіркове:', mean)\n",
    "\n",
    "sorted_sample = sorted(sample)\n",
    "n = len(sorted_sample)\n",
    "if n % 2 == 0:\n",
    "    median = (sorted_sample[n//2 - 1] + sorted_sample[n//2]) / 2\n",
    "else:\n",
    "    median = sorted_sample[n//2]\n",
    "print('Медіана:', median)\n",
    "\n",
    "frequency = {}\n",
    "for num in sample:\n",
    "    frequency[num] = frequency.get(num, 0) + 1\n",
    "mode = max(frequency, key=frequency.get)\n",
    "print('Мода:', mode)\n",
    "\n",
    "dataScope = max(sample) - min(sample)\n",
    "print('Розмах:', dataScope)\n",
    "\n",
    "deviation = sum((x - mean) ** 2 for x in sample) / len(sample)\n",
    "print('Девіація:', deviation)\n",
    "\n",
    "variance = sum((x - mean) ** 2 for x in sample) / (len(sample) - 1)\n",
    "print('Варіанса:', variance)\n",
    "\n",
    "standard_deviation = variance ** 0.5\n",
    "print('Стандарт:', standard_deviation)\n",
    "\n",
    "coefficient_of_variation = (standard_deviation / mean) * 100\n",
    "print('Варіація:', coefficient_of_variation)\n",
    "\n",
    "dispersion = sum((x - mean) ** 2 for x in sample) / (len(sample) - 1)\n",
    "print('Дисперсія:', dispersion)\n",
    "\n",
    "sigma = dispersion ** 0.5\n",
    "print('Середньоквадратичне відхилення:', sigma)\n",
    "\n",
    "moment_3 = sum((x - mean) ** 3 for x in sample) / len(sample)\n",
    "moment_4 = sum((x - mean) ** 4 for x in sample) / len(sample)\n",
    "\n",
    "skewness = moment_3 / (sigma ** 3)\n",
    "print('Асиметрія:', skewness)\n",
    "\n",
    "kurtosis = moment_4 / (sigma ** 4) - 3\n",
    "print('Ексцес: ', kurtosis)"
   ]
  },
  {
   "cell_type": "markdown",
   "metadata": {
    "id": "5SVbhH4vGais"
   },
   "source": [
    "# Quantiles"
   ]
  },
  {
   "cell_type": "code",
   "execution_count": 17,
   "metadata": {
    "colab": {
     "base_uri": "https://localhost:8080/"
    },
    "executionInfo": {
     "elapsed": 256,
     "status": "ok",
     "timestamp": 1701809996413,
     "user": {
      "displayName": "Paul Red",
      "userId": "14826925032240446715"
     },
     "user_tz": -120
    },
    "id": "EnHf13YTGais",
    "outputId": "ff914769-5918-4055-9c5b-1eb58cb5b2df"
   },
   "outputs": [
    {
     "name": "stdout",
     "output_type": "stream",
     "text": [
      "10'тилі: [1.92, 4.52, 5.68, 6.73, 7.9, 8.48, 11.05, 11.84, 14.2]\n"
     ]
    }
   ],
   "source": [
    "quantiles = {4: [], 8: [], 10: [], 100: []}\n",
    "\n",
    "for q in quantiles.keys():\n",
    "    if not n % q == 0: continue\n",
    "    quantiles[q] = [sample[int(n / q*(i+1))] for i in range(q - 1)]\n",
    "\n",
    "for key, value in quantiles.items():\n",
    "    if value: print(f'{key}\\'тилі: {value}')"
   ]
  },
  {
   "cell_type": "code",
   "execution_count": 12,
   "metadata": {
    "id": "WBl1StIEGais"
   },
   "outputs": [
    {
     "name": "stdout",
     "output_type": "stream",
     "text": [
      "Розмір вибірки:\n"
     ]
    },
    {
     "data": {
      "application/vnd.jupyter.widget-view+json": {
       "model_id": "6e80313c8fb14662aa81d848688dc35e",
       "version_major": 2,
       "version_minor": 0
      },
      "text/plain": [
       "IntText(value=50)"
      ]
     },
     "execution_count": 12,
     "metadata": {},
     "output_type": "execute_result"
    }
   ],
   "source": [
    "print('Розмір вибірки:')\n",
    "size = widgets.IntText(value=50)\n",
    "size"
   ]
  },
  {
   "cell_type": "code",
   "execution_count": 13,
   "metadata": {},
   "outputs": [
    {
     "name": "stdout",
     "output_type": "stream",
     "text": [
      "Межі вибірки\n"
     ]
    },
    {
     "data": {
      "application/vnd.jupyter.widget-view+json": {
       "model_id": "0700ea2927274314bdb527e501cac4de",
       "version_major": 2,
       "version_minor": 0
      },
      "text/plain": [
       "HBox(children=(IntText(value=0), IntText(value=15)))"
      ]
     },
     "metadata": {},
     "output_type": "display_data"
    },
    {
     "data": {
      "application/vnd.jupyter.widget-view+json": {
       "model_id": "036b95f6ff184d6bb6da9165e04b00b4",
       "version_major": 2,
       "version_minor": 0
      },
      "text/plain": [
       "Output()"
      ]
     },
     "metadata": {},
     "output_type": "display_data"
    }
   ],
   "source": [
    "a = widgets.IntText(value=0)\n",
    "b = widgets.IntText(value=15)\n",
    "ui = widgets.HBox([a, b])\n",
    "def f(a, b):\n",
    "    print((a, b))\n",
    "\n",
    "print('Межі вибірки')\n",
    "out = widgets.interactive_output(f, {'a': a, 'b': b})\n",
    "\n",
    "display(ui, out)\n",
    "\n",
    "sampleSize = size.value"
   ]
  },
  {
   "cell_type": "code",
   "execution_count": 23,
   "metadata": {},
   "outputs": [
    {
     "name": "stdout",
     "output_type": "stream",
     "text": [
      "Вибірка:  [8.74, 13.7, 9.8, 14.18, 2.62, 11.52, 7.49, 9.04, 11.26, 6.07, 13.42, 5.64, 2.97, 2.36, 6.59, 2.24, 13.13, 14.97, 7.02, 4.03, 14.78, 4.96, 8.44, 4.43, 9.85, 4.82, 10.97, 2.19, 12.06, 0.18, 12.41, 11.75, 4.74, 6.77, 6.46, 10.94, 12.37, 7.06, 12.19, 0.35, 4.74, 0.65, 13.78, 7.8, 5.39, 14.6, 9.87, 5.07, 5.33, 9.4] \n",
      "\n",
      "Варіаційний ряд:  [0.18, 0.35, 0.65, 2.19, 2.24, 2.36, 2.62, 2.97, 4.03, 4.43, 4.74, 4.74, 4.82, 4.96, 5.07, 5.33, 5.39, 5.64, 6.07, 6.46, 6.59, 6.77, 7.02, 7.06, 7.49, 7.8, 8.44, 8.74, 9.04, 9.4, 9.8, 9.85, 9.87, 10.94, 10.97, 11.26, 11.52, 11.75, 12.06, 12.19, 12.37, 12.41, 13.13, 13.42, 13.7, 13.78, 14.18, 14.6, 14.78, 14.97]\n"
     ]
    }
   ],
   "source": [
    "sample = [round(random.uniform(a.value, b.value), 2) for i in range(sampleSize)]\n",
    "print('Вибірка: ', sample, '\\n')\n",
    "sample = sorted(sample)\n",
    "print('Варіаційний ряд: ', sample)"
   ]
  },
  {
   "cell_type": "code",
   "execution_count": 88,
   "metadata": {},
   "outputs": [
    {
     "name": "stdout",
     "output_type": "stream",
     "text": [
      "Інтервали: [160, 164, 168, 172, 176, 180, 184, 188, 192]\n",
      "Частоти: [4, 8, 10, 16, 12, 5, 3, 2]\n"
     ]
    }
   ],
   "source": [
    "r = math.ceil(math.log2(sampleSize)) - 1\n",
    "\n",
    "hist, bin_edges = np.histogram(sample, bins=r+1)\n",
    "bin_edges = [160, 164, 168, 172, 176, 180, 184, 188, 192]\n",
    "hist = [4, 8, 10, 16, 12, 5, 3, 2]\n",
    "sampleSize = 60\n",
    "numCount = dict(zip(bin_edges[1:], hist))\n",
    "print(\"Інтервали:\", bin_edges)\n",
    "print(\"Частоти:\", hist)"
   ]
  },
  {
   "cell_type": "code",
   "execution_count": 89,
   "metadata": {},
   "outputs": [
    {
     "data": {
      "image/png": "[encoded data removed]",
      "text/plain": [
       "<Figure size 640x480 with 1 Axes>"
      ]
     },
     "metadata": {},
     "output_type": "display_data"
    },
    {
     "name": "stdout",
     "output_type": "stream",
     "text": [
      "{164: 4, 168: 8, 172: 10, 176: 16, 180: 12, 184: 5, 188: 3, 192: 2}\n"
     ]
    }
   ],
   "source": [
    "plt.bar(bin_edges[:-1], hist, width=np.diff(bin_edges), edgecolor='black', align='edge')\n",
    "plt.title('Гістограма за інтервальним розподілом')\n",
    "plt.xlabel('Інтервали')\n",
    "plt.ylabel('Частота')\n",
    "plt.show()\n",
    "print(numCount)"
   ]
  },
  {
   "cell_type": "code",
   "execution_count": 90,
   "metadata": {},
   "outputs": [
    {
     "name": "stdout",
     "output_type": "stream",
     "text": [
      "[162.0, 166.0, 170.0, 174.0, 178.0, 182.0, 186.0, 190.0, 191.0]\n",
      "[0.06666667 0.2        0.36666667 0.63333333 0.83333333 0.91666667\n",
      " 0.96666667 1.        ]\n"
     ]
    },
    {
     "data": {
      "image/png": "[encoded data removed]",
      "text/plain": [
       "<Figure size 640x480 with 1 Axes>"
      ]
     },
     "metadata": {},
     "output_type": "display_data"
    }
   ],
   "source": [
    "cumulative_hist = np.cumsum(hist) / np.sum(hist)\n",
    "x = []\n",
    "for i in range(0, len(bin_edges) - 1):\n",
    "    x.append((bin_edges[i + 1] + bin_edges[i]) / 2)\n",
    "x.append(x[-1] + 1)\n",
    "print(x)\n",
    "print(cumulative_hist)\n",
    "plt.hlines(cumulative_hist, x[:-1], x[1:])\n",
    "plt.title('Емпірична функція розподілу за інтервальним розподілом')\n",
    "plt.xlabel('Значення')\n",
    "plt.ylabel('Емпірична функція розподілу')\n",
    "plt.show()"
   ]
  },
  {
   "cell_type": "code",
   "execution_count": 124,
   "metadata": {
    "scrolled": true
   },
   "outputs": [
    {
     "name": "stdout",
     "output_type": "stream",
     "text": [
      "\n",
      "\n",
      "Середньовибіркове:  174.06666666666666\n",
      "Мода:  174.4\n",
      "Медіана:  174.0\n",
      "\n",
      "\n",
      "Розмах:  32\n",
      "Девіація:  2703.7333333333336\n",
      "Варіанса:  45.82598870056498\n",
      "Стандарт:  6.769489545051752\n",
      "Варіація: 0.03889021186356809\n",
      "Дисперсія:  45.062222222222225\n",
      "Середньоквадратичне відхилення:  6.712840101046816\n",
      "\n",
      "\n",
      "Асиметрія: 0.24877701593146953\n",
      "Ексцес: -0.2600282350113967\n"
     ]
    }
   ],
   "source": [
    "n = sampleSize\n",
    "print('\\n')\n",
    "midpoints = [(bin_edges[i] + bin_edges[i+1]) / 2 for i in range(len(bin_edges) - 1)]\n",
    "midDict = dict(zip(numCount.values(), midpoints))\n",
    "\n",
    "mean = 0\n",
    "for value, mid in midDict.items():\n",
    "    mean += mid * value\n",
    "mean /= n\n",
    "print('Середньовибіркове: ', mean)\n",
    "\n",
    "modal_index = hist.index(max(hist))\n",
    "L = bin_edges[modal_index]\n",
    "h = bin_edges[1] - bin_edges[0]\n",
    "f1 = hist[modal_index]\n",
    "if modal_index > 0:\n",
    "    f0 = hist[modal_index - 1]\n",
    "else:\n",
    "    f0 = 0\n",
    "if modal_index < len(hist) - 1:\n",
    "    f2 = hist[modal_index + 1]\n",
    "else:\n",
    "    f2 = 0\n",
    "mode = L + ((f1 - f0) / (2 * f1 - f0 - f2)) * h\n",
    "print('Мода: ', mode)\n",
    "\n",
    "total_freq = sum(hist)\n",
    "cumulative_freq = [sum(hist[:i+1]) for i in range(len(hist))]\n",
    "median_class_index = next(i for i, freq in enumerate(cumulative_freq) if freq >= total_freq / 2)\n",
    "lower_boundary = bin_edges[median_class_index]\n",
    "upper_boundary = bin_edges[median_class_index + 1]\n",
    "class_width = bin_edges[1] - bin_edges[0]\n",
    "median = lower_boundary + ((total_freq / 2 - cumulative_freq[median_class_index - 1]) / hist[median_class_index]) * class_width\n",
    "print('Медіана: ', median)\n",
    "\n",
    "print('\\n')\n",
    "dataScope = bin_edges[-1] - bin_edges[0]\n",
    "print('Розмах: ', dataScope)\n",
    "\n",
    "deviation = sum(freq * (mid - mean) ** 2 for freq, mid in midDict.items())\n",
    "print('Девіація: ', deviation)\n",
    "\n",
    "variance = deviation / (sampleSize-1)\n",
    "print('Варіанса: ',variance)\n",
    "\n",
    "fluctuation = variance ** 0.5\n",
    "print('Стандарт: ', fluctuation)\n",
    "\n",
    "variation = fluctuation / mean\n",
    "print('Варіація:', variation)\n",
    "\n",
    "dispersion = deviation / sum(numCount.values())\n",
    "print('Дисперсія: ', dispersion)\n",
    "\n",
    "sigma = dispersion ** 0.5\n",
    "print('Середньоквадратичне відхилення: ', sigma)\n",
    "\n",
    "central_moment_3 = sum(((mid - mean) ** 3) * freq for freq, mid in midDict.items()) / n\n",
    "central_moment_4 = sum(((mid - mean) ** 4) * freq for freq, mid in midDict.items()) / n\n",
    "\n",
    "skewness = central_moment_3 / (sigma ** 3)\n",
    "kurtosis = central_moment_4 / (sigma ** 4) - 3\n",
    "print('\\n')\n",
    "print('Асиметрія:', skewness)\n",
    "print('Ексцес:', kurtosis)"
   ]
  },
  {
   "cell_type": "code",
   "execution_count": null,
   "metadata": {},
   "outputs": [],
   "source": []
  }
 ],
 "metadata": {
  "colab": {
   "provenance": []
  },
  "kernelspec": {
   "display_name": "Python 3 (ipykernel)",
   "language": "python",
   "name": "python3"
  },
  "language_info": {
   "codemirror_mode": {
    "name": "ipython",
    "version": 3
   },
   "file_extension": ".py",
   "mimetype": "text/x-python",
   "name": "python",
   "nbconvert_exporter": "python",
   "pygments_lexer": "ipython3",
   "version": "3.11.5"
  },
  "widgets": {
   "application/vnd.jupyter.widget-state+json": {
    "13f27b9f7ed94cea808b7e44675cc277": {
     "model_module": "@jupyter-widgets/controls",
     "model_module_version": "1.5.0",
     "model_name": "DescriptionStyleModel",
     "state": {
      "_model_module": "@jupyter-widgets/controls",
      "_model_module_version": "1.5.0",
      "_model_name": "DescriptionStyleModel",
      "_view_count": null,
      "_view_module": "@jupyter-widgets/base",
      "_view_module_version": "1.2.0",
      "_view_name": "StyleView",
      "description_width": ""
     }
    },
    "309ed3a1e6264a44904fec7c17622b0d": {
     "model_module": "@jupyter-widgets/controls",
     "model_module_version": "1.5.0",
     "model_name": "IntTextModel",
     "state": {
      "_dom_classes": [],
      "_model_module": "@jupyter-widgets/controls",
      "_model_module_version": "1.5.0",
      "_model_name": "IntTextModel",
      "_view_count": null,
      "_view_module": "@jupyter-widgets/controls",
      "_view_module_version": "1.5.0",
      "_view_name": "IntTextView",
      "continuous_update": false,
      "description": "",
      "description_tooltip": null,
      "disabled": false,
      "layout": "IPY_MODEL_a4cc80d148c74b119dfd810f378a72c5",
      "step": 1,
      "style": "IPY_MODEL_13f27b9f7ed94cea808b7e44675cc277",
      "value": 15
     }
    },
    "5a9c689337ea4074b1d4699518410738": {
     "model_module": "@jupyter-widgets/controls",
     "model_module_version": "1.5.0",
     "model_name": "IntTextModel",
     "state": {
      "_dom_classes": [],
      "_model_module": "@jupyter-widgets/controls",
      "_model_module_version": "1.5.0",
      "_model_name": "IntTextModel",
      "_view_count": null,
      "_view_module": "@jupyter-widgets/controls",
      "_view_module_version": "1.5.0",
      "_view_name": "IntTextView",
      "continuous_update": false,
      "description": "",
      "description_tooltip": null,
      "disabled": false,
      "layout": "IPY_MODEL_be68bbd3631148e5821fe3182ee8b131",
      "step": 1,
      "style": "IPY_MODEL_ccf256c8e2544757a5033a6fe8c3c90a",
      "value": 0
     }
    },
    "5dd495461ebe4414ac11cedd1e65c557": {
     "model_module": "@jupyter-widgets/controls",
     "model_module_version": "1.5.0",
     "model_name": "DescriptionStyleModel",
     "state": {
      "_model_module": "@jupyter-widgets/controls",
      "_model_module_version": "1.5.0",
      "_model_name": "DescriptionStyleModel",
      "_view_count": null,
      "_view_module": "@jupyter-widgets/base",
      "_view_module_version": "1.2.0",
      "_view_name": "StyleView",
      "description_width": ""
     }
    },
    "6bb72d2736064f40af99448851a0ca19": {
     "model_module": "@jupyter-widgets/output",
     "model_module_version": "1.0.0",
     "model_name": "OutputModel",
     "state": {
      "_dom_classes": [],
      "_model_module": "@jupyter-widgets/output",
      "_model_module_version": "1.0.0",
      "_model_name": "OutputModel",
      "_view_count": null,
      "_view_module": "@jupyter-widgets/output",
      "_view_module_version": "1.0.0",
      "_view_name": "OutputView",
      "layout": "IPY_MODEL_f5fdc1212f6641b59810e306796142b7",
      "msg_id": "",
      "outputs": [
       {
        "name": "stdout",
        "output_type": "stream",
        "text": [
         "(0, 15)\n"
        ]
       }
      ]
     }
    },
    "6bc2e097fbc64e9a84d5571b90cf6e35": {
     "model_module": "@jupyter-widgets/controls",
     "model_module_version": "1.5.0",
     "model_name": "IntTextModel",
     "state": {
      "_dom_classes": [],
      "_model_module": "@jupyter-widgets/controls",
      "_model_module_version": "1.5.0",
      "_model_name": "IntTextModel",
      "_view_count": null,
      "_view_module": "@jupyter-widgets/controls",
      "_view_module_version": "1.5.0",
      "_view_name": "IntTextView",
      "continuous_update": false,
      "description": "",
      "description_tooltip": null,
      "disabled": false,
      "layout": "IPY_MODEL_7b900f5d405f476691667ec7a8703d1f",
      "step": 1,
      "style": "IPY_MODEL_5dd495461ebe4414ac11cedd1e65c557",
      "value": 56
     }
    },
    "7b900f5d405f476691667ec7a8703d1f": {
     "model_module": "@jupyter-widgets/base",
     "model_module_version": "1.2.0",
     "model_name": "LayoutModel",
     "state": {
      "_model_module": "@jupyter-widgets/base",
      "_model_module_version": "1.2.0",
      "_model_name": "LayoutModel",
      "_view_count": null,
      "_view_module": "@jupyter-widgets/base",
      "_view_module_version": "1.2.0",
      "_view_name": "LayoutView",
      "align_content": null,
      "align_items": null,
      "align_self": null,
      "border": null,
      "bottom": null,
      "display": null,
      "flex": null,
      "flex_flow": null,
      "grid_area": null,
      "grid_auto_columns": null,
      "grid_auto_flow": null,
      "grid_auto_rows": null,
      "grid_column": null,
      "grid_gap": null,
      "grid_row": null,
      "grid_template_areas": null,
      "grid_template_columns": null,
      "grid_template_rows": null,
      "height": null,
      "justify_content": null,
      "justify_items": null,
      "left": null,
      "margin": null,
      "max_height": null,
      "max_width": null,
      "min_height": null,
      "min_width": null,
      "object_fit": null,
      "object_position": null,
      "order": null,
      "overflow": null,
      "overflow_x": null,
      "overflow_y": null,
      "padding": null,
      "right": null,
      "top": null,
      "visibility": null,
      "width": null
     }
    },
    "a4cc80d148c74b119dfd810f378a72c5": {
     "model_module": "@jupyter-widgets/base",
     "model_module_version": "1.2.0",
     "model_name": "LayoutModel",
     "state": {
      "_model_module": "@jupyter-widgets/base",
      "_model_module_version": "1.2.0",
      "_model_name": "LayoutModel",
      "_view_count": null,
      "_view_module": "@jupyter-widgets/base",
      "_view_module_version": "1.2.0",
      "_view_name": "LayoutView",
      "align_content": null,
      "align_items": null,
      "align_self": null,
      "border": null,
      "bottom": null,
      "display": null,
      "flex": null,
      "flex_flow": null,
      "grid_area": null,
      "grid_auto_columns": null,
      "grid_auto_flow": null,
      "grid_auto_rows": null,
      "grid_column": null,
      "grid_gap": null,
      "grid_row": null,
      "grid_template_areas": null,
      "grid_template_columns": null,
      "grid_template_rows": null,
      "height": null,
      "justify_content": null,
      "justify_items": null,
      "left": null,
      "margin": null,
      "max_height": null,
      "max_width": null,
      "min_height": null,
      "min_width": null,
      "object_fit": null,
      "object_position": null,
      "order": null,
      "overflow": null,
      "overflow_x": null,
      "overflow_y": null,
      "padding": null,
      "right": null,
      "top": null,
      "visibility": null,
      "width": null
     }
    },
    "be68bbd3631148e5821fe3182ee8b131": {
     "model_module": "@jupyter-widgets/base",
     "model_module_version": "1.2.0",
     "model_name": "LayoutModel",
     "state": {
      "_model_module": "@jupyter-widgets/base",
      "_model_module_version": "1.2.0",
      "_model_name": "LayoutModel",
      "_view_count": null,
      "_view_module": "@jupyter-widgets/base",
      "_view_module_version": "1.2.0",
      "_view_name": "LayoutView",
      "align_content": null,
      "align_items": null,
      "align_self": null,
      "border": null,
      "bottom": null,
      "display": null,
      "flex": null,
      "flex_flow": null,
      "grid_area": null,
      "grid_auto_columns": null,
      "grid_auto_flow": null,
      "grid_auto_rows": null,
      "grid_column": null,
      "grid_gap": null,
      "grid_row": null,
      "grid_template_areas": null,
      "grid_template_columns": null,
      "grid_template_rows": null,
      "height": null,
      "justify_content": null,
      "justify_items": null,
      "left": null,
      "margin": null,
      "max_height": null,
      "max_width": null,
      "min_height": null,
      "min_width": null,
      "object_fit": null,
      "object_position": null,
      "order": null,
      "overflow": null,
      "overflow_x": null,
      "overflow_y": null,
      "padding": null,
      "right": null,
      "top": null,
      "visibility": null,
      "width": null
     }
    },
    "cc09e74c1f2747ca9e5725e4a3898f38": {
     "model_module": "@jupyter-widgets/controls",
     "model_module_version": "1.5.0",
     "model_name": "HBoxModel",
     "state": {
      "_dom_classes": [],
      "_model_module": "@jupyter-widgets/controls",
      "_model_module_version": "1.5.0",
      "_model_name": "HBoxModel",
      "_view_count": null,
      "_view_module": "@jupyter-widgets/controls",
      "_view_module_version": "1.5.0",
      "_view_name": "HBoxView",
      "box_style": "",
      "children": [
       "IPY_MODEL_5a9c689337ea4074b1d4699518410738",
       "IPY_MODEL_309ed3a1e6264a44904fec7c17622b0d"
      ],
      "layout": "IPY_MODEL_e2fa7cafad954350bd4c5b01b07070e7"
     }
    },
    "ccf256c8e2544757a5033a6fe8c3c90a": {
     "model_module": "@jupyter-widgets/controls",
     "model_module_version": "1.5.0",
     "model_name": "DescriptionStyleModel",
     "state": {
      "_model_module": "@jupyter-widgets/controls",
      "_model_module_version": "1.5.0",
      "_model_name": "DescriptionStyleModel",
      "_view_count": null,
      "_view_module": "@jupyter-widgets/base",
      "_view_module_version": "1.2.0",
      "_view_name": "StyleView",
      "description_width": ""
     }
    },
    "e2fa7cafad954350bd4c5b01b07070e7": {
     "model_module": "@jupyter-widgets/base",
     "model_module_version": "1.2.0",
     "model_name": "LayoutModel",
     "state": {
      "_model_module": "@jupyter-widgets/base",
      "_model_module_version": "1.2.0",
      "_model_name": "LayoutModel",
      "_view_count": null,
      "_view_module": "@jupyter-widgets/base",
      "_view_module_version": "1.2.0",
      "_view_name": "LayoutView",
      "align_content": null,
      "align_items": null,
      "align_self": null,
      "border": null,
      "bottom": null,
      "display": null,
      "flex": null,
      "flex_flow": null,
      "grid_area": null,
      "grid_auto_columns": null,
      "grid_auto_flow": null,
      "grid_auto_rows": null,
      "grid_column": null,
      "grid_gap": null,
      "grid_row": null,
      "grid_template_areas": null,
      "grid_template_columns": null,
      "grid_template_rows": null,
      "height": null,
      "justify_content": null,
      "justify_items": null,
      "left": null,
      "margin": null,
      "max_height": null,
      "max_width": null,
      "min_height": null,
      "min_width": null,
      "object_fit": null,
      "object_position": null,
      "order": null,
      "overflow": null,
      "overflow_x": null,
      "overflow_y": null,
      "padding": null,
      "right": null,
      "top": null,
      "visibility": null,
      "width": null
     }
    },
    "f5fdc1212f6641b59810e306796142b7": {
     "model_module": "@jupyter-widgets/base",
     "model_module_version": "1.2.0",
     "model_name": "LayoutModel",
     "state": {
      "_model_module": "@jupyter-widgets/base",
      "_model_module_version": "1.2.0",
      "_model_name": "LayoutModel",
      "_view_count": null,
      "_view_module": "@jupyter-widgets/base",
      "_view_module_version": "1.2.0",
      "_view_name": "LayoutView",
      "align_content": null,
      "align_items": null,
      "align_self": null,
      "border": null,
      "bottom": null,
      "display": null,
      "flex": null,
      "flex_flow": null,
      "grid_area": null,
      "grid_auto_columns": null,
      "grid_auto_flow": null,
      "grid_auto_rows": null,
      "grid_column": null,
      "grid_gap": null,
      "grid_row": null,
      "grid_template_areas": null,
      "grid_template_columns": null,
      "grid_template_rows": null,
      "height": null,
      "justify_content": null,
      "justify_items": null,
      "left": null,
      "margin": null,
      "max_height": null,
      "max_width": null,
      "min_height": null,
      "min_width": null,
      "object_fit": null,
      "object_position": null,
      "order": null,
      "overflow": null,
      "overflow_x": null,
      "overflow_y": null,
      "padding": null,
      "right": null,
      "top": null,
      "visibility": null,
      "width": null
     }
    }
   }
  }
 },
 "nbformat": 4,
 "nbformat_minor": 1
}
