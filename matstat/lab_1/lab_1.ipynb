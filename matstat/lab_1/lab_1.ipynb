{
 "cells": [
  {
   "cell_type": "code",
   "execution_count": 2,
   "metadata": {
    "executionInfo": {
     "elapsed": 8,
     "status": "ok",
     "timestamp": 1701809959243,
     "user": {
      "displayName": "Paul Red",
      "userId": "14826925032240446715"
     },
     "user_tz": -120
    },
    "id": "WKuduJhPGaih"
   },
   "outputs": [],
   "source": [
    "import random\n",
    "\n",
    "import math\n",
    "import numpy as np\n",
    "import matplotlib.pyplot as plt\n",
    "\n",
    "import ipywidgets as widgets\n",
    "from ipywidgets import interact"
   ]
  },
  {
   "cell_type": "markdown",
   "metadata": {
    "id": "fxGxGMjpGain"
   },
   "source": [
    "# Дискретний розподіл"
   ]
  },
  {
   "cell_type": "code",
   "execution_count": 5,
   "metadata": {
    "colab": {
     "base_uri": "https://localhost:8080/",
     "height": 66,
     "referenced_widgets": [
      "6bc2e097fbc64e9a84d5571b90cf6e35",
      "7b900f5d405f476691667ec7a8703d1f",
      "5dd495461ebe4414ac11cedd1e65c557"
     ]
    },
    "executionInfo": {
     "elapsed": 288,
     "status": "ok",
     "timestamp": 1701809969785,
     "user": {
      "displayName": "Paul Red",
      "userId": "14826925032240446715"
     },
     "user_tz": -120
    },
    "id": "XY3QlyioGaio",
    "outputId": "6f5dd93e-0220-4615-a333-5e30c928da8c"
   },
   "outputs": [
    {
     "name": "stdout",
     "output_type": "stream",
     "text": [
      "Розмір вибірки:\n"
     ]
    },
    {
     "data": {
      "application/vnd.jupyter.widget-view+json": {
       "model_id": "b93cbc077511447e8f8ea77d8228d705",
       "version_major": 2,
       "version_minor": 0
      },
      "text/plain": [
       "IntText(value=50)"
      ]
     },
     "execution_count": 5,
     "metadata": {},
     "output_type": "execute_result"
    }
   ],
   "source": [
    "print('Розмір вибірки:')\n",
    "size = widgets.IntText(value=50)\n",
    "size"
   ]
  },
  {
   "cell_type": "code",
   "execution_count": 6,
   "metadata": {
    "colab": {
     "base_uri": "https://localhost:8080/",
     "height": 84,
     "referenced_widgets": [
      "cc09e74c1f2747ca9e5725e4a3898f38",
      "5a9c689337ea4074b1d4699518410738",
      "309ed3a1e6264a44904fec7c17622b0d",
      "e2fa7cafad954350bd4c5b01b07070e7",
      "be68bbd3631148e5821fe3182ee8b131",
      "ccf256c8e2544757a5033a6fe8c3c90a",
      "a4cc80d148c74b119dfd810f378a72c5",
      "13f27b9f7ed94cea808b7e44675cc277",
      "6bb72d2736064f40af99448851a0ca19",
      "f5fdc1212f6641b59810e306796142b7"
     ]
    },
    "executionInfo": {
     "elapsed": 264,
     "status": "ok",
     "timestamp": 1701809972624,
     "user": {
      "displayName": "Paul Red",
      "userId": "14826925032240446715"
     },
     "user_tz": -120
    },
    "id": "wVoocdEnGaip",
    "outputId": "d9bf2e73-40dc-45b9-ce2d-bd4bf82da314"
   },
   "outputs": [
    {
     "name": "stdout",
     "output_type": "stream",
     "text": [
      "Межі вибірки\n"
     ]
    },
    {
     "data": {
      "application/vnd.jupyter.widget-view+json": {
       "model_id": "4e4cc2e208a44b7e90cd379ec18352a1",
       "version_major": 2,
       "version_minor": 0
      },
      "text/plain": [
       "HBox(children=(IntText(value=0), IntText(value=15)))"
      ]
     },
     "metadata": {},
     "output_type": "display_data"
    },
    {
     "data": {
      "application/vnd.jupyter.widget-view+json": {
       "model_id": "d96e6a2030144da496d202a065036a17",
       "version_major": 2,
       "version_minor": 0
      },
      "text/plain": [
       "Output()"
      ]
     },
     "metadata": {},
     "output_type": "display_data"
    }
   ],
   "source": [
    "a = widgets.IntText(value=0)\n",
    "b = widgets.IntText(value=15)\n",
    "ui = widgets.HBox([a, b])\n",
    "def f(a, b):\n",
    "    print((a, b))\n",
    "\n",
    "print('Межі вибірки')\n",
    "out = widgets.interactive_output(f, {'a': a, 'b': b})\n",
    "\n",
    "display(ui, out)\n",
    "\n",
    "sampleSize = size.value"
   ]
  },
  {
   "cell_type": "code",
   "execution_count": 7,
   "metadata": {
    "colab": {
     "base_uri": "https://localhost:8080/"
    },
    "executionInfo": {
     "elapsed": 270,
     "status": "ok",
     "timestamp": 1701809975452,
     "user": {
      "displayName": "Paul Red",
      "userId": "14826925032240446715"
     },
     "user_tz": -120
    },
    "id": "2MlwzFkPGaip",
    "outputId": "40f23505-2b84-4065-c7e6-55c68f504551"
   },
   "outputs": [
    {
     "name": "stdout",
     "output_type": "stream",
     "text": [
      "Вибірка:  [0, 3, 4, 6, 5, 4, 2, 1, 3, 6, 3, 0, 5, 1, 3, 1, 2, 6, 0, 4, 1, 0, 1, 2, 3, 6, 4, 1, 1, 2, 8, 4, 0, 5, 7, 1, 5, 7, 6, 5, 2, 4, 8, 2, 2, 0, 2, 5, 2, 6, 3, 2, 8, 4, 5, 4, 3, 4, 6, 5] \n",
      "\n",
      "Варіаційний ряд:  [0, 0, 0, 0, 0, 0, 1, 1, 1, 1, 1, 1, 1, 1, 2, 2, 2, 2, 2, 2, 2, 2, 2, 2, 3, 3, 3, 3, 3, 3, 3, 4, 4, 4, 4, 4, 4, 4, 4, 4, 5, 5, 5, 5, 5, 5, 5, 5, 6, 6, 6, 6, 6, 6, 6, 7, 7, 8, 8, 8]\n"
     ]
    }
   ],
   "source": [
    "sample = [random.randint(a.value, b.value) for i in range(sampleSize)]\n",
    "print('Вибірка: ', sample, '\\n')\n",
    "sample = sorted(sample)\n",
    "print('Варіаційний ряд: ', sample)"
   ]
  },
  {
   "cell_type": "code",
   "execution_count": 8,
   "metadata": {
    "colab": {
     "base_uri": "https://localhost:8080/"
    },
    "executionInfo": {
     "elapsed": 5,
     "status": "ok",
     "timestamp": 1701809977566,
     "user": {
      "displayName": "Paul Red",
      "userId": "14826925032240446715"
     },
     "user_tz": -120
    },
    "id": "ADQc0ivYGaiq",
    "outputId": "f1da858c-96e2-48e7-8928-0c1226ea7838"
   },
   "outputs": [
    {
     "data": {
      "text/plain": [
       "{0: 6, 1: 8, 2: 10, 3: 7, 4: 9, 5: 8, 6: 7, 7: 2, 8: 3}"
      ]
     },
     "execution_count": 8,
     "metadata": {},
     "output_type": "execute_result"
    }
   ],
   "source": [
    "numCount = {}\n",
    "uniqueVariation = sorted(list(set(sample)))\n",
    "for num in uniqueVariation:\n",
    "    numCount[num] = sample.count(num)\n",
    "numCount"
   ]
  },
  {
   "cell_type": "markdown",
   "metadata": {
    "id": "T19q9tflGaiq"
   },
   "source": [
    "# Frequencies"
   ]
  },
  {
   "cell_type": "code",
   "execution_count": 9,
   "metadata": {
    "colab": {
     "base_uri": "https://localhost:8080/",
     "height": 468
    },
    "executionInfo": {
     "elapsed": 694,
     "status": "ok",
     "timestamp": 1701809980517,
     "user": {
      "displayName": "Paul Red",
      "userId": "14826925032240446715"
     },
     "user_tz": -120
    },
    "id": "mx14i1ZkGaiq",
    "outputId": "516aad91-b8e4-43e1-89ea-2b2a0fd030d8"
   },
   "outputs": [
    {
     "data": {
      "image/png": "[encoded data removed]",
      "text/plain": [
       "<Figure size 1000x500 with 1 Axes>"
      ]
     },
     "metadata": {},
     "output_type": "display_data"
    }
   ],
   "source": [
    "plt.figure(figsize=(10,5))\n",
    "plt.title('Частоти')\n",
    "plt.plot(numCount.keys(),\n",
    "        numCount.values(),\n",
    "        color='red',\n",
    "        label='Полігон частот')\n",
    "plt.stem(numCount.keys(),\n",
    "        numCount.values(),\n",
    "        label='Діаграма частот')\n",
    "\n",
    "plt.legend()\n",
    "plt.show()"
   ]
  },
  {
   "cell_type": "code",
   "execution_count": 10,
   "metadata": {
    "colab": {
     "base_uri": "https://localhost:8080/",
     "height": 468
    },
    "executionInfo": {
     "elapsed": 365,
     "status": "ok",
     "timestamp": 1701809984000,
     "user": {
      "displayName": "Paul Red",
      "userId": "14826925032240446715"
     },
     "user_tz": -120
    },
    "id": "O2GFYhqoGair",
    "outputId": "6893f1f2-324b-4b49-b6c1-37e14c8cedd8"
   },
   "outputs": [
    {
     "data": {
      "image/png": "[encoded data removed]",
      "text/plain": [
       "<Figure size 640x480 with 1 Axes>"
      ]
     },
     "metadata": {},
     "output_type": "display_data"
    }
   ],
   "source": [
    "x = list(numCount.keys())\n",
    "x.append(x[-1] + 1)\n",
    "y = list(numCount.values())\n",
    "\n",
    "ecdf = np.cumsum(y) / np.sum(y)\n",
    "\n",
    "plt.hlines(ecdf, x[:-1], x[1:])\n",
    "plt.xlabel('x')\n",
    "plt.ylabel('F(х)')\n",
    "plt.title('Емпірична функція розподілу')\n",
    "plt.show()"
   ]
  },
  {
   "cell_type": "code",
   "execution_count": 11,
   "metadata": {
    "colab": {
     "base_uri": "https://localhost:8080/"
    },
    "executionInfo": {
     "elapsed": 257,
     "status": "ok",
     "timestamp": 1701809987182,
     "user": {
      "displayName": "Paul Red",
      "userId": "14826925032240446715"
     },
     "user_tz": -120
    },
    "id": "Bdl4NsOwGair",
    "outputId": "3b5763cc-d5eb-4968-a2dc-0ddc749f4744"
   },
   "outputs": [
    {
     "name": "stdout",
     "output_type": "stream",
     "text": [
      "Середньовибіркове: 3.4166666666666665\n",
      "Медіана: 3.0\n",
      "Мода: 2\n",
      "\n",
      "\n",
      "Розмах: 8\n",
      "Девіація: 4.943055555555557\n",
      "Варіанса: 0.08378060263653488\n",
      "Стандарт: 0.2894487910434847\n",
      "Варіація: 0.0847167193298004\n",
      "Дисперсія: 0.08238425925925928\n",
      "Середньоквадратичне відхилення: 0.2870265828442712\n",
      "\n",
      "\n",
      "Асиметрія: 0.23344272764445329\n",
      "Ексцес:  -0.8529060281225713\n"
     ]
    }
   ],
   "source": [
    "mean = sum(sample) / len(sample)\n",
    "print('Середньовибіркове:', mean)\n",
    "\n",
    "n = len(sample)\n",
    "if n % 2 == 0:\n",
    "    median = (sample[n//2 - 1] + sample[n//2]) / 2\n",
    "else:\n",
    "    median = sample[n//2]\n",
    "print('Медіана:', median)\n",
    "\n",
    "frequency = {}\n",
    "for num in sample:\n",
    "    frequency[num] = frequency.get(num, 0) + 1\n",
    "mode = max(frequency, key=frequency.get)\n",
    "print('Мода:', mode)\n",
    "\n",
    "print('\\n')\n",
    "dataScope = max(sample) - min(sample)\n",
    "print('Розмах:', dataScope)\n",
    "\n",
    "deviation = sum((x - mean) ** 2 for x in sample) / n\n",
    "print('Девіація:', deviation)\n",
    "\n",
    "variance = deviation / (n - 1)\n",
    "print('Варіанса:', variance)\n",
    "\n",
    "fluctuation = variance ** 0.5\n",
    "print('Стандарт:', fluctuation)\n",
    "\n",
    "variation = fluctuation / mean\n",
    "print('Варіація:', variation)\n",
    "\n",
    "dispersion = deviation / n\n",
    "print('Дисперсія:', dispersion)\n",
    "\n",
    "sigma = dispersion ** 0.5\n",
    "print('Середньоквадратичне відхилення:', sigma)\n",
    "\n",
    "moment_2 = sum((x - mean) ** 2 for x in sample) / n\n",
    "moment_3 = sum((x - mean) ** 3 for x in sample) / n\n",
    "moment_4 = sum((x - mean) ** 4 for x in sample) / n\n",
    "\n",
    "print('\\n')\n",
    "skewness = moment_3 / (moment_2 ** 1.5)\n",
    "print('Асиметрія:', skewness)\n",
    "\n",
    "kurtosis = moment_4 / (moment_2 ** 2) - 3\n",
    "print('Ексцес: ', kurtosis)"
   ]
  },
  {
   "cell_type": "code",
   "execution_count": 12,
   "metadata": {
    "colab": {
     "base_uri": "https://localhost:8080/"
    },
    "executionInfo": {
     "elapsed": 256,
     "status": "ok",
     "timestamp": 1701809996413,
     "user": {
      "displayName": "Paul Red",
      "userId": "14826925032240446715"
     },
     "user_tz": -120
    },
    "id": "EnHf13YTGais",
    "outputId": "ff914769-5918-4055-9c5b-1eb58cb5b2df"
   },
   "outputs": [
    {
     "name": "stdout",
     "output_type": "stream",
     "text": [
      "4'тилі: [2, 3, 5]\n",
      "10'тилі: [1, 1, 2, 3, 3, 4, 5, 6, 6]\n"
     ]
    }
   ],
   "source": [
    "quantiles = {4: [], 8: [], 10: [], 100: []}\n",
    "\n",
    "for q in quantiles.keys():\n",
    "    if n % q == 0: quantiles[q] = [sample[int(n / q*(i+1))] for i in range(q - 1)]\n",
    "\n",
    "for key, value in quantiles.items():\n",
    "    if value: print(f'{key}\\'тилі: {value}')"
   ]
  },
  {
   "cell_type": "markdown",
   "metadata": {},
   "source": [
    "# Неперервний розподіл"
   ]
  },
  {
   "cell_type": "code",
   "execution_count": 13,
   "metadata": {
    "id": "WBl1StIEGais"
   },
   "outputs": [
    {
     "name": "stdout",
     "output_type": "stream",
     "text": [
      "Розмір вибірки:\n"
     ]
    },
    {
     "data": {
      "application/vnd.jupyter.widget-view+json": {
       "model_id": "96710606fe3849389f34b51f92a64204",
       "version_major": 2,
       "version_minor": 0
      },
      "text/plain": [
       "IntText(value=50)"
      ]
     },
     "execution_count": 13,
     "metadata": {},
     "output_type": "execute_result"
    }
   ],
   "source": [
    "print('Розмір вибірки:')\n",
    "size = widgets.IntText(value=50)\n",
    "size"
   ]
  },
  {
   "cell_type": "code",
   "execution_count": 14,
   "metadata": {},
   "outputs": [
    {
     "name": "stdout",
     "output_type": "stream",
     "text": [
      "Межі вибірки\n"
     ]
    },
    {
     "data": {
      "application/vnd.jupyter.widget-view+json": {
       "model_id": "3f9c0bea07cc4891975205d59536d1d6",
       "version_major": 2,
       "version_minor": 0
      },
      "text/plain": [
       "HBox(children=(IntText(value=0), IntText(value=15)))"
      ]
     },
     "metadata": {},
     "output_type": "display_data"
    },
    {
     "data": {
      "application/vnd.jupyter.widget-view+json": {
       "model_id": "7d449c20f3d1421cb7147ff43db282dd",
       "version_major": 2,
       "version_minor": 0
      },
      "text/plain": [
       "Output()"
      ]
     },
     "metadata": {},
     "output_type": "display_data"
    }
   ],
   "source": [
    "a = widgets.IntText(value=0)\n",
    "b = widgets.IntText(value=15)\n",
    "ui = widgets.HBox([a, b])\n",
    "def f(a, b):\n",
    "    print((a, b))\n",
    "\n",
    "print('Межі вибірки')\n",
    "out = widgets.interactive_output(f, {'a': a, 'b': b})\n",
    "\n",
    "display(ui, out)\n",
    "\n",
    "sampleSize = size.value"
   ]
  },
  {
   "cell_type": "code",
   "execution_count": 15,
   "metadata": {},
   "outputs": [
    {
     "name": "stdout",
     "output_type": "stream",
     "text": [
      "Вибірка:  [4.52, 2.39, 1.45, 7.73, 4.34, 3.79, 3.35, 4.78, 3.29, 3.48, 6.57, 5.21, 1.76, 2.44, 4.58, 4.52, 3.4, 0.38, 5.18, 3.67, 1.46, 6.0, 1.41, 0.82, 5.36, 0.69, 1.91, 6.46, 6.82, 7.14, 6.28, 5.31, 5.35, 1.51, 7.92, 4.86, 6.6, 2.41, 2.87, 7.26, 4.65, 3.95, 3.38, 2.35, 3.37, 3.9, 6.55, 7.17, 3.77, 2.56, 0.74, 3.93, 2.37, 7.7, 6.83, 4.11, 7.68, 5.45, 0.64, 2.8] \n",
      "\n",
      "Варіаційний ряд:  [0.38, 0.64, 0.69, 0.74, 0.82, 1.41, 1.45, 1.46, 1.51, 1.76, 1.91, 2.35, 2.37, 2.39, 2.41, 2.44, 2.56, 2.8, 2.87, 3.29, 3.35, 3.37, 3.38, 3.4, 3.48, 3.67, 3.77, 3.79, 3.9, 3.93, 3.95, 4.11, 4.34, 4.52, 4.52, 4.58, 4.65, 4.78, 4.86, 5.18, 5.21, 5.31, 5.35, 5.36, 5.45, 6.0, 6.28, 6.46, 6.55, 6.57, 6.6, 6.82, 6.83, 7.14, 7.17, 7.26, 7.68, 7.7, 7.73, 7.92]\n"
     ]
    }
   ],
   "source": [
    "sample = [round(random.uniform(a.value, b.value), 2) for i in range(sampleSize)]\n",
    "print('Вибірка: ', sample, '\\n')\n",
    "sample = sorted(sample)\n",
    "print('Варіаційний ряд: ', sample)"
   ]
  },
  {
   "cell_type": "code",
   "execution_count": 16,
   "metadata": {},
   "outputs": [
    {
     "name": "stdout",
     "output_type": "stream",
     "text": [
      "Інтервали: [0.38, 1.6366666666666667, 2.893333333333333, 4.1499999999999995, 5.406666666666666, 6.663333333333333, 7.92]\n",
      "Частоти: [9, 10, 13, 12, 7, 9]\n"
     ]
    }
   ],
   "source": [
    "r = math.ceil(math.log2(sampleSize)) - 1\n",
    "\n",
    "hist, bin_edges = np.histogram(sample, bins=r+1)\n",
    "hist = list(hist)\n",
    "bin_edges = list(bin_edges)\n",
    "sampleSize = 60\n",
    "numCount = dict(zip(bin_edges[1:], hist))\n",
    "print(\"Інтервали:\", bin_edges)\n",
    "print(\"Частоти:\", hist)"
   ]
  },
  {
   "cell_type": "code",
   "execution_count": 222,
   "metadata": {},
   "outputs": [
    {
     "data": {
      "image/png": "[encoded data removed]",
      "text/plain": [
       "<Figure size 640x480 with 1 Axes>"
      ]
     },
     "metadata": {},
     "output_type": "display_data"
    }
   ],
   "source": [
    "plt.bar(bin_edges[:-1], hist, width=np.diff(bin_edges), edgecolor='black', align='edge')\n",
    "plt.title('Гістограма за інтервальним розподілом')\n",
    "plt.xlabel('Інтервали')\n",
    "plt.ylabel('Частота')\n",
    "plt.show()"
   ]
  },
  {
   "cell_type": "code",
   "execution_count": 223,
   "metadata": {},
   "outputs": [
    {
     "name": "stdout",
     "output_type": "stream",
     "text": [
      "[1.4625000000000001, 3.7675, 6.0725, 8.377500000000001, 10.682500000000001, 12.9875, 13.9875]\n",
      "[0.16 0.22 0.48 0.62 0.84 1.  ]\n"
     ]
    },
    {
     "data": {
      "image/png": "[encoded data removed]",
      "text/plain": [
       "<Figure size 640x480 with 1 Axes>"
      ]
     },
     "metadata": {},
     "output_type": "display_data"
    }
   ],
   "source": [
    "cumulative_hist = np.cumsum(hist) / np.sum(hist)\n",
    "x = []\n",
    "for i in range(0, len(bin_edges) - 1):\n",
    "    x.append((bin_edges[i + 1] + bin_edges[i]) / 2)\n",
    "x.append(x[-1] + 1)\n",
    "print(x)\n",
    "print(cumulative_hist)\n",
    "plt.hlines(cumulative_hist, x[:-1], x[1:])\n",
    "plt.title('Емпірична функція розподілу за інтервальним розподілом')\n",
    "plt.xlabel('Значення')\n",
    "plt.ylabel('Емпірична функція розподілу')\n",
    "plt.show()"
   ]
  },
  {
   "cell_type": "code",
   "execution_count": 17,
   "metadata": {
    "scrolled": true
   },
   "outputs": [
    {
     "name": "stdout",
     "output_type": "stream",
     "text": [
      "\n",
      "\n",
      "Середньовибіркове:  3.8940277777777776\n",
      "Мода:  3.8358333333333334\n",
      "Медіана:  3.9566666666666666\n",
      "\n",
      "\n",
      "Розмах:  7.54\n",
      "Девіація:  173.70564172453703\n",
      "Варіанса:  2.9441634190599495\n",
      "Стандарт:  1.7158564680823247\n",
      "Варіація: 0.44063796305570274\n",
      "Дисперсія:  2.895094028742284\n",
      "Середньоквадратичне відхилення:  1.7014975841129731\n",
      "\n",
      "\n",
      "Асиметрія: 1.3063098878780652\n",
      "Ексцес: -0.16749108671227564\n"
     ]
    }
   ],
   "source": [
    "n = sampleSize\n",
    "print('\\n')\n",
    "midpoints = [(bin_edges[i] + bin_edges[i+1]) / 2 for i in range(len(bin_edges) - 1)]\n",
    "midDict = dict(zip(numCount.values(), midpoints))\n",
    "\n",
    "mean = 0\n",
    "for value, mid in midDict.items():\n",
    "    mean += mid * value\n",
    "mean /= n\n",
    "print('Середньовибіркове: ', mean)\n",
    "\n",
    "modal_index = hist.index(max(hist))\n",
    "L = bin_edges[modal_index]\n",
    "h = bin_edges[1] - bin_edges[0]\n",
    "f1 = hist[modal_index]\n",
    "if modal_index > 0:\n",
    "    f0 = hist[modal_index - 1]\n",
    "else:\n",
    "    f0 = 0\n",
    "if modal_index < len(hist) - 1:\n",
    "    f2 = hist[modal_index + 1]\n",
    "else:\n",
    "    f2 = 0\n",
    "mode = L + ((f1 - f0) / (2 * f1 - f0 - f2)) * h\n",
    "print('Мода: ', mode)\n",
    "\n",
    "total_freq = sum(hist)\n",
    "cumulative_freq = [sum(hist[:i+1]) for i in range(len(hist))]\n",
    "median_class_index = next(i for i, freq in enumerate(cumulative_freq) if freq >= total_freq / 2)\n",
    "lower_boundary = bin_edges[median_class_index]\n",
    "upper_boundary = bin_edges[median_class_index + 1]\n",
    "class_width = bin_edges[1] - bin_edges[0]\n",
    "median = lower_boundary + ((total_freq / 2 - cumulative_freq[median_class_index - 1]) / hist[median_class_index]) * class_width\n",
    "print('Медіана: ', median)\n",
    "\n",
    "print('\\n')\n",
    "dataScope = bin_edges[-1] - bin_edges[0]\n",
    "print('Розмах: ', dataScope)\n",
    "\n",
    "deviation = sum(freq * (mid - mean) ** 2 for freq, mid in midDict.items())\n",
    "print('Девіація: ', deviation)\n",
    "\n",
    "variance = deviation / (sampleSize-1)\n",
    "print('Варіанса: ',variance)\n",
    "\n",
    "fluctuation = variance ** 0.5\n",
    "print('Стандарт: ', fluctuation)\n",
    "\n",
    "variation = fluctuation / mean\n",
    "print('Варіація:', variation)\n",
    "\n",
    "dispersion = deviation / n\n",
    "print('Дисперсія: ', dispersion)\n",
    "\n",
    "sigma = dispersion ** 0.5\n",
    "print('Середньоквадратичне відхилення: ', sigma)\n",
    "\n",
    "central_moment_3 = sum(((mid - mean) ** 3) * freq for freq, mid in midDict.items()) / n\n",
    "central_moment_4 = sum(((mid - mean) ** 4) * freq for freq, mid in midDict.items()) / n\n",
    "\n",
    "skewness = central_moment_3 / (sigma ** 3)\n",
    "kurtosis = central_moment_4 / (sigma ** 4) - 3\n",
    "print('\\n')\n",
    "print('Асиметрія:', skewness)\n",
    "print('Ексцес:', kurtosis)"
   ]
  },
  {
   "cell_type": "code",
   "execution_count": null,
   "metadata": {},
   "outputs": [],
   "source": []
  },
  {
   "cell_type": "code",
   "execution_count": null,
   "metadata": {},
   "outputs": [],
   "source": []
  }
 ],
 "metadata": {
  "colab": {
   "provenance": []
  },
  "kernelspec": {
   "display_name": "Python 3 (ipykernel)",
   "language": "python",
   "name": "python3"
  },
  "language_info": {
   "codemirror_mode": {
    "name": "ipython",
    "version": 3
   },
   "file_extension": ".py",
   "mimetype": "text/x-python",
   "name": "python",
   "nbconvert_exporter": "python",
   "pygments_lexer": "ipython3",
   "version": "3.11.5"
  },
  "widgets": {
   "application/vnd.jupyter.widget-state+json": {
    "13f27b9f7ed94cea808b7e44675cc277": {
     "model_module": "@jupyter-widgets/controls",
     "model_module_version": "1.5.0",
     "model_name": "DescriptionStyleModel",
     "state": {
      "_model_module": "@jupyter-widgets/controls",
      "_model_module_version": "1.5.0",
      "_model_name": "DescriptionStyleModel",
      "_view_count": null,
      "_view_module": "@jupyter-widgets/base",
      "_view_module_version": "1.2.0",
      "_view_name": "StyleView",
      "description_width": ""
     }
    },
    "309ed3a1e6264a44904fec7c17622b0d": {
     "model_module": "@jupyter-widgets/controls",
     "model_module_version": "1.5.0",
     "model_name": "IntTextModel",
     "state": {
      "_dom_classes": [],
      "_model_module": "@jupyter-widgets/controls",
      "_model_module_version": "1.5.0",
      "_model_name": "IntTextModel",
      "_view_count": null,
      "_view_module": "@jupyter-widgets/controls",
      "_view_module_version": "1.5.0",
      "_view_name": "IntTextView",
      "continuous_update": false,
      "description": "",
      "description_tooltip": null,
      "disabled": false,
      "layout": "IPY_MODEL_a4cc80d148c74b119dfd810f378a72c5",
      "step": 1,
      "style": "IPY_MODEL_13f27b9f7ed94cea808b7e44675cc277",
      "value": 15
     }
    },
    "5a9c689337ea4074b1d4699518410738": {
     "model_module": "@jupyter-widgets/controls",
     "model_module_version": "1.5.0",
     "model_name": "IntTextModel",
     "state": {
      "_dom_classes": [],
      "_model_module": "@jupyter-widgets/controls",
      "_model_module_version": "1.5.0",
      "_model_name": "IntTextModel",
      "_view_count": null,
      "_view_module": "@jupyter-widgets/controls",
      "_view_module_version": "1.5.0",
      "_view_name": "IntTextView",
      "continuous_update": false,
      "description": "",
      "description_tooltip": null,
      "disabled": false,
      "layout": "IPY_MODEL_be68bbd3631148e5821fe3182ee8b131",
      "step": 1,
      "style": "IPY_MODEL_ccf256c8e2544757a5033a6fe8c3c90a",
      "value": 0
     }
    },
    "5dd495461ebe4414ac11cedd1e65c557": {
     "model_module": "@jupyter-widgets/controls",
     "model_module_version": "1.5.0",
     "model_name": "DescriptionStyleModel",
     "state": {
      "_model_module": "@jupyter-widgets/controls",
      "_model_module_version": "1.5.0",
      "_model_name": "DescriptionStyleModel",
      "_view_count": null,
      "_view_module": "@jupyter-widgets/base",
      "_view_module_version": "1.2.0",
      "_view_name": "StyleView",
      "description_width": ""
     }
    },
    "6bb72d2736064f40af99448851a0ca19": {
     "model_module": "@jupyter-widgets/output",
     "model_module_version": "1.0.0",
     "model_name": "OutputModel",
     "state": {
      "_dom_classes": [],
      "_model_module": "@jupyter-widgets/output",
      "_model_module_version": "1.0.0",
      "_model_name": "OutputModel",
      "_view_count": null,
      "_view_module": "@jupyter-widgets/output",
      "_view_module_version": "1.0.0",
      "_view_name": "OutputView",
      "layout": "IPY_MODEL_f5fdc1212f6641b59810e306796142b7",
      "msg_id": "",
      "outputs": [
       {
        "name": "stdout",
        "output_type": "stream",
        "text": [
         "(0, 15)\n"
        ]
       }
      ]
     }
    },
    "6bc2e097fbc64e9a84d5571b90cf6e35": {
     "model_module": "@jupyter-widgets/controls",
     "model_module_version": "1.5.0",
     "model_name": "IntTextModel",
     "state": {
      "_dom_classes": [],
      "_model_module": "@jupyter-widgets/controls",
      "_model_module_version": "1.5.0",
      "_model_name": "IntTextModel",
      "_view_count": null,
      "_view_module": "@jupyter-widgets/controls",
      "_view_module_version": "1.5.0",
      "_view_name": "IntTextView",
      "continuous_update": false,
      "description": "",
      "description_tooltip": null,
      "disabled": false,
      "layout": "IPY_MODEL_7b900f5d405f476691667ec7a8703d1f",
      "step": 1,
      "style": "IPY_MODEL_5dd495461ebe4414ac11cedd1e65c557",
      "value": 56
     }
    },
    "7b900f5d405f476691667ec7a8703d1f": {
     "model_module": "@jupyter-widgets/base",
     "model_module_version": "1.2.0",
     "model_name": "LayoutModel",
     "state": {
      "_model_module": "@jupyter-widgets/base",
      "_model_module_version": "1.2.0",
      "_model_name": "LayoutModel",
      "_view_count": null,
      "_view_module": "@jupyter-widgets/base",
      "_view_module_version": "1.2.0",
      "_view_name": "LayoutView",
      "align_content": null,
      "align_items": null,
      "align_self": null,
      "border": null,
      "bottom": null,
      "display": null,
      "flex": null,
      "flex_flow": null,
      "grid_area": null,
      "grid_auto_columns": null,
      "grid_auto_flow": null,
      "grid_auto_rows": null,
      "grid_column": null,
      "grid_gap": null,
      "grid_row": null,
      "grid_template_areas": null,
      "grid_template_columns": null,
      "grid_template_rows": null,
      "height": null,
      "justify_content": null,
      "justify_items": null,
      "left": null,
      "margin": null,
      "max_height": null,
      "max_width": null,
      "min_height": null,
      "min_width": null,
      "object_fit": null,
      "object_position": null,
      "order": null,
      "overflow": null,
      "overflow_x": null,
      "overflow_y": null,
      "padding": null,
      "right": null,
      "top": null,
      "visibility": null,
      "width": null
     }
    },
    "a4cc80d148c74b119dfd810f378a72c5": {
     "model_module": "@jupyter-widgets/base",
     "model_module_version": "1.2.0",
     "model_name": "LayoutModel",
     "state": {
      "_model_module": "@jupyter-widgets/base",
      "_model_module_version": "1.2.0",
      "_model_name": "LayoutModel",
      "_view_count": null,
      "_view_module": "@jupyter-widgets/base",
      "_view_module_version": "1.2.0",
      "_view_name": "LayoutView",
      "align_content": null,
      "align_items": null,
      "align_self": null,
      "border": null,
      "bottom": null,
      "display": null,
      "flex": null,
      "flex_flow": null,
      "grid_area": null,
      "grid_auto_columns": null,
      "grid_auto_flow": null,
      "grid_auto_rows": null,
      "grid_column": null,
      "grid_gap": null,
      "grid_row": null,
      "grid_template_areas": null,
      "grid_template_columns": null,
      "grid_template_rows": null,
      "height": null,
      "justify_content": null,
      "justify_items": null,
      "left": null,
      "margin": null,
      "max_height": null,
      "max_width": null,
      "min_height": null,
      "min_width": null,
      "object_fit": null,
      "object_position": null,
      "order": null,
      "overflow": null,
      "overflow_x": null,
      "overflow_y": null,
      "padding": null,
      "right": null,
      "top": null,
      "visibility": null,
      "width": null
     }
    },
    "be68bbd3631148e5821fe3182ee8b131": {
     "model_module": "@jupyter-widgets/base",
     "model_module_version": "1.2.0",
     "model_name": "LayoutModel",
     "state": {
      "_model_module": "@jupyter-widgets/base",
      "_model_module_version": "1.2.0",
      "_model_name": "LayoutModel",
      "_view_count": null,
      "_view_module": "@jupyter-widgets/base",
      "_view_module_version": "1.2.0",
      "_view_name": "LayoutView",
      "align_content": null,
      "align_items": null,
      "align_self": null,
      "border": null,
      "bottom": null,
      "display": null,
      "flex": null,
      "flex_flow": null,
      "grid_area": null,
      "grid_auto_columns": null,
      "grid_auto_flow": null,
      "grid_auto_rows": null,
      "grid_column": null,
      "grid_gap": null,
      "grid_row": null,
      "grid_template_areas": null,
      "grid_template_columns": null,
      "grid_template_rows": null,
      "height": null,
      "justify_content": null,
      "justify_items": null,
      "left": null,
      "margin": null,
      "max_height": null,
      "max_width": null,
      "min_height": null,
      "min_width": null,
      "object_fit": null,
      "object_position": null,
      "order": null,
      "overflow": null,
      "overflow_x": null,
      "overflow_y": null,
      "padding": null,
      "right": null,
      "top": null,
      "visibility": null,
      "width": null
     }
    },
    "cc09e74c1f2747ca9e5725e4a3898f38": {
     "model_module": "@jupyter-widgets/controls",
     "model_module_version": "1.5.0",
     "model_name": "HBoxModel",
     "state": {
      "_dom_classes": [],
      "_model_module": "@jupyter-widgets/controls",
      "_model_module_version": "1.5.0",
      "_model_name": "HBoxModel",
      "_view_count": null,
      "_view_module": "@jupyter-widgets/controls",
      "_view_module_version": "1.5.0",
      "_view_name": "HBoxView",
      "box_style": "",
      "children": [
       "IPY_MODEL_5a9c689337ea4074b1d4699518410738",
       "IPY_MODEL_309ed3a1e6264a44904fec7c17622b0d"
      ],
      "layout": "IPY_MODEL_e2fa7cafad954350bd4c5b01b07070e7"
     }
    },
    "ccf256c8e2544757a5033a6fe8c3c90a": {
     "model_module": "@jupyter-widgets/controls",
     "model_module_version": "1.5.0",
     "model_name": "DescriptionStyleModel",
     "state": {
      "_model_module": "@jupyter-widgets/controls",
      "_model_module_version": "1.5.0",
      "_model_name": "DescriptionStyleModel",
      "_view_count": null,
      "_view_module": "@jupyter-widgets/base",
      "_view_module_version": "1.2.0",
      "_view_name": "StyleView",
      "description_width": ""
     }
    },
    "e2fa7cafad954350bd4c5b01b07070e7": {
     "model_module": "@jupyter-widgets/base",
     "model_module_version": "1.2.0",
     "model_name": "LayoutModel",
     "state": {
      "_model_module": "@jupyter-widgets/base",
      "_model_module_version": "1.2.0",
      "_model_name": "LayoutModel",
      "_view_count": null,
      "_view_module": "@jupyter-widgets/base",
      "_view_module_version": "1.2.0",
      "_view_name": "LayoutView",
      "align_content": null,
      "align_items": null,
      "align_self": null,
      "border": null,
      "bottom": null,
      "display": null,
      "flex": null,
      "flex_flow": null,
      "grid_area": null,
      "grid_auto_columns": null,
      "grid_auto_flow": null,
      "grid_auto_rows": null,
      "grid_column": null,
      "grid_gap": null,
      "grid_row": null,
      "grid_template_areas": null,
      "grid_template_columns": null,
      "grid_template_rows": null,
      "height": null,
      "justify_content": null,
      "justify_items": null,
      "left": null,
      "margin": null,
      "max_height": null,
      "max_width": null,
      "min_height": null,
      "min_width": null,
      "object_fit": null,
      "object_position": null,
      "order": null,
      "overflow": null,
      "overflow_x": null,
      "overflow_y": null,
      "padding": null,
      "right": null,
      "top": null,
      "visibility": null,
      "width": null
     }
    },
    "f5fdc1212f6641b59810e306796142b7": {
     "model_module": "@jupyter-widgets/base",
     "model_module_version": "1.2.0",
     "model_name": "LayoutModel",
     "state": {
      "_model_module": "@jupyter-widgets/base",
      "_model_module_version": "1.2.0",
      "_model_name": "LayoutModel",
      "_view_count": null,
      "_view_module": "@jupyter-widgets/base",
      "_view_module_version": "1.2.0",
      "_view_name": "LayoutView",
      "align_content": null,
      "align_items": null,
      "align_self": null,
      "border": null,
      "bottom": null,
      "display": null,
      "flex": null,
      "flex_flow": null,
      "grid_area": null,
      "grid_auto_columns": null,
      "grid_auto_flow": null,
      "grid_auto_rows": null,
      "grid_column": null,
      "grid_gap": null,
      "grid_row": null,
      "grid_template_areas": null,
      "grid_template_columns": null,
      "grid_template_rows": null,
      "height": null,
      "justify_content": null,
      "justify_items": null,
      "left": null,
      "margin": null,
      "max_height": null,
      "max_width": null,
      "min_height": null,
      "min_width": null,
      "object_fit": null,
      "object_position": null,
      "order": null,
      "overflow": null,
      "overflow_x": null,
      "overflow_y": null,
      "padding": null,
      "right": null,
      "top": null,
      "visibility": null,
      "width": null
     }
    }
   }
  }
 },
 "nbformat": 4,
 "nbformat_minor": 1
}
