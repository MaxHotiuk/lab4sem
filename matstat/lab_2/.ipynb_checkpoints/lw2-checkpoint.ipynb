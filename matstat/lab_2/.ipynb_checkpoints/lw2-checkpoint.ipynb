{
 "cells": [
  {
   "cell_type": "code",
   "execution_count": 34,
   "id": "01127cac",
   "metadata": {},
   "outputs": [],
   "source": [
    "import numpy as np\n",
    "import math\n",
    "import matplotlib.pyplot as plt\n",
    "import scipy.stats\n",
    "from scipy.integrate import quad"
   ]
  },
  {
   "cell_type": "markdown",
   "id": "9645af37",
   "metadata": {},
   "source": [
    "# TASK 1"
   ]
  },
  {
   "cell_type": "code",
   "execution_count": 35,
   "id": "91c430db",
   "metadata": {},
   "outputs": [
    {
     "name": "stdout",
     "output_type": "stream",
     "text": [
      "Do you want to input the parameters manually or estimate them? (m/e) e\n",
      "Enter the level of significance (alpha): 0.005\n",
      "Intervals: [28, 30, 32, 34, 36, 38, 40, 42, 44, 46, 48]\n",
      "Values: [1, 2, 10, 48, 88, 91, 45, 13, 3, 1]\n",
      "Standard deviation (sigma): 2.576\n",
      "Level of significance (alpha): 0.005\n"
     ]
    }
   ],
   "source": [
    "def acquire_data(file_location):\n",
    "    with open(file_location, 'r') as data_source:\n",
    "        content_lines = data_source.readlines()\n",
    "\n",
    "    range_limits = [float(x) for x in content_lines[0].strip().split(' ')]\n",
    "    frequency_counts = [int(x) for x in content_lines[1].strip().split(' ')]\n",
    "\n",
    "    return range_limits, frequency_counts\n",
    "\n",
    "def compute_parameters(frequency_counts, range_limits):\n",
    "    total_count = sum(frequency_counts)\n",
    "    data_mean = sum([((x + y) / 2) * z for y, x, z in zip(range_limits[:-1], range_limits[1:], frequency_counts)]) / total_count\n",
    "\n",
    "    midpoint_values = [(range_limits[i] + range_limits[i+1]) / 2 for i in range(len(range_limits) - 1)]\n",
    "    deviation_sum = sum(freq * ((mid - data_mean) ** 2) for freq, mid in zip(frequency_counts, midpoint_values))\n",
    "\n",
    "    variance_estimate = deviation_sum / (total_count - 1)\n",
    "    standard_deviation = variance_estimate ** 0.5\n",
    "    significance_level = 0.05  # Default level of significance\n",
    "\n",
    "    return standard_deviation, data_mean\n",
    "\n",
    "def manual_specification():\n",
    "    user_specified_deviation = float(input(\"Enter the standard deviation (sigma): \"))\n",
    "    return user_specified_deviation\n",
    "\n",
    "range_limits, frequency_counts = acquire_data('data1.txt')\n",
    "parameter_source = 0\n",
    "\n",
    "user_choice = input(\"Do you want to input the parameters manually or estimate them? (m/e) \")\n",
    "\n",
    "if user_choice.lower() == 'm':\n",
    "    sigma = manual_specification()\n",
    "    data_mean = sum([(x - y) * z for y, x, z in zip(range_limits[:-1], range_limits[1:], frequency_counts)]) / sum(frequency_counts)\n",
    "else:\n",
    "    sigma, data_mean = compute_parameters(frequency_counts, range_limits)\n",
    "    parameter_source = 2\n",
    "alpha = float(input(\"Enter the level of significance (alpha): \"))\n",
    "\n",
    "print(f\"Intervals: {range_limits}\")\n",
    "print(f\"Values: {frequency_counts}\")\n",
    "print(f\"Standard deviation (sigma): {round(sigma, 3)}\")\n",
    "print(f\"Level of significance (alpha): {alpha}\")"
   ]
  },
  {
   "cell_type": "code",
   "execution_count": 36,
   "id": "12e02196",
   "metadata": {},
   "outputs": [
    {
     "data": {
      "image/png": "[encoded data removed]",
      "text/plain": [
       "<Figure size 640x480 with 1 Axes>"
      ]
     },
     "metadata": {},
     "output_type": "display_data"
    }
   ],
   "source": [
    "def visualize_distribution(frequency_counts, range_limits):\n",
    "    fig, canvas = plt.subplots()\n",
    "\n",
    "    canvas.stairs(frequency_counts, range_limits, fill=True, edgecolor='black')\n",
    "\n",
    "    canvas.set_xlabel('Values')\n",
    "    canvas.set_ylabel('Frequency')\n",
    "    canvas.set_xticks(range_limits)\n",
    "    canvas.grid(True)\n",
    "\n",
    "    plt.show()\n",
    "\n",
    "visualize_distribution(frequency_counts, range_limits)"
   ]
  },
  {
   "cell_type": "code",
   "execution_count": 37,
   "id": "47ca0c79",
   "metadata": {},
   "outputs": [
    {
     "name": "stdout",
     "output_type": "stream",
     "text": [
      "Theoretical probabilities: [0.000885025673441231, 0.008504540379102143, 0.048418105618559804, 0.154915670481995, 0.2790718174172126, 0.28334175337338513, 0.16214025337865584, 0.05224412449204752, 0.00946159929901158, 0.001017109886589096]\n"
     ]
    }
   ],
   "source": [
    "def compute_normal_cdf(x_value):\n",
    "    integrand = lambda x: np.exp(-x**2 / 2)\n",
    "    result, _ = quad(integrand, 0, x_value)\n",
    "    return (1 / np.sqrt(2 * np.pi)) * result\n",
    "\n",
    "def obtain_probabilities(range_limits, std_dev, central_value):\n",
    "    cdf_values = []\n",
    "    probability_estimates = []\n",
    "\n",
    "    for i in range(len(range_limits) - 1):\n",
    "        cdf_values.append(compute_normal_cdf((range_limits[i + 1] - central_value) / std_dev))\n",
    "\n",
    "    for i in range(len(cdf_values)):\n",
    "        if i == 0:\n",
    "            probability_estimates.append(0.5 + cdf_values[i])\n",
    "        else:\n",
    "            probability_estimates.append(cdf_values[i] - cdf_values[i - 1])\n",
    "\n",
    "    probability_estimates[-1] = (1 - sum(probability_estimates[:-1]))\n",
    "\n",
    "    return probability_estimates\n",
    "\n",
    "probabilities = obtain_probabilities(range_limits, sigma, data_mean)\n",
    "print(f\"Theoretical probabilities: {probabilities}\")"
   ]
  },
  {
   "cell_type": "code",
   "execution_count": 38,
   "id": "502a7e49",
   "metadata": {},
   "outputs": [],
   "source": [
    "def identify_low_frequency(frequency_counts, total_count, probability_estimates):\n",
    "    for idx, count in enumerate(frequency_counts):\n",
    "        if count < 5 or total_count * probability_estimates[idx] < 10:\n",
    "            return idx\n",
    "    return None"
   ]
  },
  {
   "cell_type": "code",
   "execution_count": 39,
   "id": "9eb01ddd",
   "metadata": {},
   "outputs": [
    {
     "name": "stdout",
     "output_type": "stream",
     "text": [
      "[28, 34, 36, 38, 40, 46, 48]\n",
      "[13, 48, 88, 91, 45, 17]\n",
      "[0.05780767167110318, 0.154915670481995, 0.2790718174172126, 0.28334175337338513, 0.16214025337865584, 0.0627228336776482]\n"
     ]
    }
   ],
   "source": [
    "def consolidate_intervals(range_limits, frequency_counts, probability_estimates, total_count):\n",
    "    while True:\n",
    "        low_frequency_idx = identify_low_frequency(frequency_counts, total_count, probability_estimates)\n",
    "        if low_frequency_idx is None:\n",
    "            break\n",
    "\n",
    "        elif low_frequency_idx == 0 or low_frequency_idx == 1:\n",
    "            frequency_counts[low_frequency_idx + 1] += frequency_counts[low_frequency_idx]\n",
    "            probability_estimates[low_frequency_idx + 1] += probability_estimates[low_frequency_idx]\n",
    "            frequency_counts.pop(low_frequency_idx)\n",
    "            probability_estimates.pop(low_frequency_idx)\n",
    "            range_limits.pop(low_frequency_idx + 1)\n",
    "\n",
    "        else:\n",
    "            temp_count = frequency_counts[low_frequency_idx]\n",
    "            frequency_counts.pop(low_frequency_idx)\n",
    "            range_limits.pop(low_frequency_idx - 1)\n",
    "            frequency_counts[low_frequency_idx - 1] += temp_count\n",
    "            probability_estimates[low_frequency_idx - 1] += probability_estimates[low_frequency_idx]\n",
    "            probability_estimates.pop(low_frequency_idx)\n",
    "\n",
    "        if len(frequency_counts) == 1:\n",
    "            break\n",
    "    return range_limits, frequency_counts, probability_estimates\n",
    "\n",
    "range_limits, frequency_counts, probabilities = consolidate_intervals(range_limits, frequency_counts, probabilities, sum(frequency_counts))\n",
    "\n",
    "print(range_limits)\n",
    "print(frequency_counts)\n",
    "print(probabilities)"
   ]
  },
  {
   "cell_type": "code",
   "execution_count": 40,
   "id": "54e8d938",
   "metadata": {},
   "outputs": [
    {
     "name": "stdout",
     "output_type": "stream",
     "text": [
      "Critical value: 12.838156466598653\n",
      "Empirical value: 2.1992540082692855\n",
      "Hypothesis is accepted\n"
     ]
    }
   ],
   "source": [
    "def determine_degrees_freedom(num_intervals, parameter_source):\n",
    "    return num_intervals - parameter_source - 1\n",
    "\n",
    "def calculate_critical_value(significance_level, degrees_freedom):\n",
    "    return scipy.stats.chi2.isf(significance_level, degrees_freedom)\n",
    "\n",
    "def compute_test_statistic(frequency_counts, probability_estimates):\n",
    "    total_count = sum(frequency_counts)\n",
    "    test_statistic = 0\n",
    "\n",
    "    for count, prob in zip(frequency_counts, probability_estimates):\n",
    "        expected_count = total_count * prob\n",
    "        test_statistic += ((count - expected_count) ** 2) / expected_count\n",
    "\n",
    "    return test_statistic\n",
    "\n",
    "num_intervals = len(range_limits)\n",
    "degrees_freedom = determine_degrees_freedom(num_intervals - 1, parameter_source)\n",
    "critical_value = calculate_critical_value(alpha, degrees_freedom)\n",
    "print(f\"Critical value: {critical_value}\")\n",
    "test_statistic = compute_test_statistic(frequency_counts, probabilities)\n",
    "print(f\"Empirical value: {test_statistic}\")\n",
    "if test_statistic > critical_value:\n",
    "    print(\"Hypothesis is rejected\")\n",
    "else:\n",
    "    print(\"Hypothesis is accepted\")"
   ]
  },
  {
   "cell_type": "markdown",
   "id": "37a463b5",
   "metadata": {},
   "source": [
    "# TASK 2"
   ]
  },
  {
   "cell_type": "code",
   "execution_count": 41,
   "id": "5ddc6f5d",
   "metadata": {},
   "outputs": [
    {
     "name": "stdout",
     "output_type": "stream",
     "text": [
      "Do you want to input the parameters manually or estimate them? (m/e) e\n",
      "Enter the level of significance (alpha): 0.005\n",
      "Xi: [0, 1, 2, 3, 4, 5, 6, 7, 8]\n",
      "Ni: [0, 3, 9, 47, 140, 263, 289, 198, 52]\n",
      "P: 0.695929070929071\n",
      "Xmid: 5.567432567432568\n",
      "Level of significance (alpha): 0.005\n"
     ]
    }
   ],
   "source": [
    "def acquire_data(file_location):\n",
    "    with open(file_location, 'r') as data_source:\n",
    "        content_lines = data_source.readlines()\n",
    "\n",
    "    xi = [int(x) for x in content_lines[0].strip().split(' ')]\n",
    "    ni = [int(x) for x in content_lines[1].strip().split(' ')]\n",
    "\n",
    "    return xi, ni\n",
    "\n",
    "def compute_parameters(frequency_counts, range_limits):\n",
    "    data_mean = sum([x * n for x, n in zip(xi, ni)]) / sum(ni)\n",
    "    p = data_mean / xi[-1]\n",
    "    alpha = 0.05\n",
    "    return p, data_mean\n",
    "\n",
    "def manual_specification():\n",
    "    user_specified_deviation = float(input(\"Enter p: \"))\n",
    "    return user_specified_deviation\n",
    "\n",
    "xi, ni = acquire_data('data2.txt')\n",
    "parameter_source = 0\n",
    "\n",
    "user_choice = input(\"Do you want to input the parameters manually or estimate them? (m/e) \")\n",
    "\n",
    "if user_choice.lower() == 'm':\n",
    "    p = manual_specification()\n",
    "    data_mean = sum([x * n for x, n in zip(xi, ni)]) / sum(ni)\n",
    "else:\n",
    "    p, data_mean = compute_parameters(frequency_counts, range_limits)\n",
    "    parameter_source = 2\n",
    "alpha = float(input(\"Enter the level of significance (alpha): \"))\n",
    "n = xi[-1]\n",
    "print(f\"Xi: {xi}\")\n",
    "print(f\"Ni: {ni}\")\n",
    "print(f\"P: {p}\")\n",
    "print(f\"Xmid: {data_mean}\")\n",
    "print(f\"Level of significance (alpha): {alpha}\")"
   ]
  },
  {
   "cell_type": "code",
   "execution_count": 42,
   "id": "427b883a",
   "metadata": {},
   "outputs": [
    {
     "data": {
      "image/png": "[encoded data removed]",
      "text/plain": [
       "<Figure size 640x480 with 1 Axes>"
      ]
     },
     "metadata": {},
     "output_type": "display_data"
    }
   ],
   "source": [
    "def visualize_distribution(ni, xi):\n",
    "    fig, canvas = plt.subplots()\n",
    "    g_xi = xi.copy()\n",
    "    g_xi.append(g_xi[-1] + 1)\n",
    "    canvas.stairs(ni, g_xi, fill=True, edgecolor='black')\n",
    "\n",
    "    canvas.set_xlabel('Values')\n",
    "    canvas.set_ylabel('Frequency')\n",
    "    canvas.set_xticks(g_xi)\n",
    "    canvas.grid(True)\n",
    "\n",
    "    plt.show()\n",
    "\n",
    "visualize_distribution(ni, xi)"
   ]
  },
  {
   "cell_type": "code",
   "execution_count": 43,
   "id": "ac97e145",
   "metadata": {},
   "outputs": [
    {
     "data": {
      "text/plain": [
       "[7.308011273530731e-05,\n",
       " 0.0013380713536718446,\n",
       " 0.01071858348626126,\n",
       " 0.04906338050836469,\n",
       " 0.14036458910324257,\n",
       " 0.25700266285745244,\n",
       " 0.29410181521654677,\n",
       " 0.19231791331203466,\n",
       " 0.05501990404969048]"
      ]
     },
     "execution_count": 43,
     "metadata": {},
     "output_type": "execute_result"
    }
   ],
   "source": [
    "nCr = lambda n, r : math.factorial(n) / (math.factorial(r) * math.factorial(n - r))\n",
    "probabilities = []\n",
    "def p_function(p, i, n):\n",
    "    return nCr(n, i) * (p ** i) * (1 - p) ** (n - i)\n",
    "for i in range(len(xi)):\n",
    "    probabilities.append(p_function(p, i, n))\n",
    "probabilities[-1] = (1 - sum(probabilities[:-1]))\n",
    "probabilities"
   ]
  },
  {
   "cell_type": "code",
   "execution_count": 44,
   "id": "2811dcf6",
   "metadata": {},
   "outputs": [
    {
     "name": "stdout",
     "output_type": "stream",
     "text": [
      "[2, 3, 4, 5, 6, 7, 8]\n",
      "[12, 47, 140, 263, 289, 198, 52]\n",
      "[0.012129734952668413, 0.04906338050836469, 0.14036458910324257, 0.25700266285745244, 0.29410181521654677, 0.19231791331203466, 0.05501990404969048]\n"
     ]
    }
   ],
   "source": [
    "def merge(xi, ni, prob, n):\n",
    "    while True:\n",
    "        idx = identify_low_frequency(ni, n, prob)\n",
    "        if idx is None:\n",
    "            break\n",
    "        elif idx == 0:\n",
    "            ni[idx + 1] += ni[idx]\n",
    "            prob[idx + 1] += prob[idx]\n",
    "            ni.pop(idx)\n",
    "            prob.pop(idx)\n",
    "            xi.pop(idx)\n",
    "        else:\n",
    "            ni[idx - 1] += ni[idx]\n",
    "            ni.pop(idx)\n",
    "            prob[idx - 1] += prob[idx]\n",
    "            xi.pop(idx)\n",
    "            prob.pop(idx)\n",
    "            if len(ni) == 1:\n",
    "                break\n",
    "\n",
    "merge(xi, ni, probabilities, sum(ni))\n",
    "print(xi)\n",
    "print(ni)\n",
    "print(probabilities)"
   ]
  },
  {
   "cell_type": "code",
   "execution_count": 46,
   "id": "93ea5fcf",
   "metadata": {},
   "outputs": [
    {
     "name": "stdout",
     "output_type": "stream",
     "text": [
      "Critical value: 16.749602343639044\n",
      "Empirical value: 0.6495489223714641\n",
      "Hypothesis is accepted\n"
     ]
    }
   ],
   "source": [
    "degrees_freedom = determine_degrees_freedom(n, parameter_source)\n",
    "critical_value = calculate_critical_value(alpha, degrees_freedom)\n",
    "print(f\"Critical value: {critical_value}\")\n",
    "\n",
    "test_statistic = compute_test_statistic(ni, probabilities)\n",
    "print(f\"Empirical value: {test_statistic}\")\n",
    "if test_statistic > critical_value:\n",
    "    print(\"Hypothesis is rejected\")\n",
    "else:\n",
    "    print(\"Hypothesis is accepted\")"
   ]
  },
  {
   "cell_type": "code",
   "execution_count": null,
   "id": "2f7ecc9e",
   "metadata": {},
   "outputs": [],
   "source": []
  }
 ],
 "metadata": {
  "kernelspec": {
   "display_name": "Python 3 (ipykernel)",
   "language": "python",
   "name": "python3"
  },
  "language_info": {
   "codemirror_mode": {
    "name": "ipython",
    "version": 3
   },
   "file_extension": ".py",
   "mimetype": "text/x-python",
   "name": "python",
   "nbconvert_exporter": "python",
   "pygments_lexer": "ipython3",
   "version": "3.11.5"
  }
 },
 "nbformat": 4,
 "nbformat_minor": 5
}
