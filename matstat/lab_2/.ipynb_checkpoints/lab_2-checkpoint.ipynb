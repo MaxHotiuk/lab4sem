{
 "cells": [
  {
   "cell_type": "code",
   "execution_count": 17,
   "id": "7f1859a6",
   "metadata": {},
   "outputs": [],
   "source": [
    "import numpy as np\n",
    "import math\n",
    "import matplotlib.pyplot as plt\n",
    "import scipy.stats\n",
    "from scipy.integrate import quad"
   ]
  },
  {
   "cell_type": "markdown",
   "id": "ae2ef224",
   "metadata": {},
   "source": [
    "# Завдання 1"
   ]
  },
  {
   "cell_type": "code",
   "execution_count": 18,
   "id": "f9b8d889",
   "metadata": {},
   "outputs": [
    {
     "name": "stdout",
     "output_type": "stream",
     "text": [
      "Хочете ввести параметри розподілу вручну або оцінити їх на основі вибіркових даних? (в/о) о\n",
      "Введіть рівень значущості (альфа): 0.005\n",
      "Інтервали: [170, 180, 190, 200, 210, 220, 230, 240, 250, 260, 270]\n",
      "Значення: [4, 9, 28, 48, 70, 72, 52, 22, 10, 6]\n",
      "Стандартне відхилення (сигма): 17.75\n",
      "Рівень значущості (альфа): 0.005\n"
     ]
    }
   ],
   "source": [
    "def read_data(file_path):\n",
    "    with open(file_path, 'r') as file:\n",
    "        lines = file.readlines()\n",
    "    intervals = [int(x) for x in lines[0].strip().split(',')]\n",
    "    values = [int(x) for x in lines[1].strip().split(',')]\n",
    "    return intervals, values\n",
    "\n",
    "def estimate_parameters(values, intervals):\n",
    "    n = sum(values)\n",
    "    mean = sum([((x + y) / 2) * z for y, x, z in zip(intervals[:-1], intervals[1:], values)]) / n\n",
    "    midpoints = [(intervals[i] + intervals[i+1]) / 2 for i in range(len(intervals) - 1)]\n",
    "    deviation = sum(freq * (mid - mean) ** 2 for freq, mid in zip(values, midpoints))\n",
    "    variance = deviation / (n-1)\n",
    "    sigma = variance ** 0.5\n",
    "    return sigma, mean\n",
    "\n",
    "def manual_input():\n",
    "    sigma = float(input(\"Введіть стандартне відхилення (сигма): \"))\n",
    "    return sigma\n",
    "\n",
    "intervals, values = read_data('data_1.txt')\n",
    "calculated_param = 0\n",
    "\n",
    "user_input = input(\"Хочете ввести параметри розподілу вручну або оцінити їх на основі вибіркових даних? (в/о) \")\n",
    "\n",
    "if user_input.lower() == 'в':\n",
    "    sigma = manual_input()\n",
    "    mean = sum([(x - y) * z for y, x, z in zip(intervals[:-1], intervals[1:], values)]) / sum(values)\n",
    "else:\n",
    "    sigma, mean = estimate_parameters(values, intervals)\n",
    "    calculated_param = 2\n",
    "alpha = float(input(\"Введіть рівень значущості (альфа): \"))\n",
    "print(f\"Інтервали: {intervals}\")\n",
    "print(f\"Значення: {values}\")\n",
    "print(f\"Стандартне відхилення (сигма): {round(sigma, 3)}\")\n",
    "print(f\"Рівень значущості (альфа): {alpha}\")"
   ]
  },
  {
   "cell_type": "code",
   "execution_count": 19,
   "id": "33ca6f4e",
   "metadata": {},
   "outputs": [
    {
     "data": {
      "image/png": "[encoded data removed]",
      "text/plain": [
       "<Figure size 640x480 with 1 Axes>"
      ]
     },
     "metadata": {},
     "output_type": "display_data"
    }
   ],
   "source": [
    "plt.stairs(values, intervals, fill=True, edgecolor='black')\n",
    "plt.xlabel('Значення')\n",
    "plt.ylabel('Частота')\n",
    "plt.xticks(intervals)\n",
    "plt.grid(True)\n",
    "plt.show()"
   ]
  },
  {
   "cell_type": "code",
   "execution_count": 20,
   "id": "927e83e7",
   "metadata": {},
   "outputs": [
    {
     "name": "stdout",
     "output_type": "stream",
     "text": [
      "Теоретичні ймовірності: [0.011866208334873729, 0.03288298094112024, 0.08350850081496819, 0.15564661369023178, 0.2129449204785182, 0.21386964487383, 0.15768332273832403, 0.08533800061895674, 0.033896200305875535, 0.012363607203301541]\n"
     ]
    }
   ],
   "source": [
    "def calculate_laplas(x):\n",
    "    integrand = lambda x: np.exp(-x**2 / 2)\n",
    "    result, _ = quad(integrand, 0, x)\n",
    "    return (1 / np.sqrt(2 * np.pi)) * result\n",
    "\n",
    "def get_probabilities(intervals, sigma, mean):\n",
    "    laplas = []\n",
    "    probabilities = []\n",
    "    for i in range(len(intervals) - 1):\n",
    "        laplas.append(calculate_laplas((intervals[i + 1] - mean) / sigma))\n",
    "    for i in range(len(laplas)):\n",
    "        if i == 0:\n",
    "            probabilities.append(0.5 + laplas[i])\n",
    "        else:\n",
    "            probabilities.append(laplas[i] - laplas[i - 1])\n",
    "            \n",
    "    probabilities[-1] = (1 - sum(probabilities[:-1]))\n",
    "    return probabilities\n",
    "\n",
    "probabilities = get_probabilities(intervals, sigma, mean)\n",
    "print(f\"Теоретичні ймовірності: {probabilities}\")"
   ]
  },
  {
   "cell_type": "code",
   "execution_count": 21,
   "id": "d5d7515d",
   "metadata": {},
   "outputs": [
    {
     "data": {
      "text/plain": [
       "[4, 9, 28, 48, 70, 72, 52, 22, 10, 6]"
      ]
     },
     "execution_count": 21,
     "metadata": {},
     "output_type": "execute_result"
    }
   ],
   "source": [
    "def crit_pirson_lim(values, n, prob):\n",
    "    for i in range(len(values)):\n",
    "        if values[i] < 5 or n * prob[i] < 10:\n",
    "            return i\n",
    "    return None\n",
    "values"
   ]
  },
  {
   "cell_type": "code",
   "execution_count": 22,
   "id": "79b8170b",
   "metadata": {},
   "outputs": [
    {
     "name": "stdout",
     "output_type": "stream",
     "text": [
      "[170, 190, 200, 210, 220, 230, 240, 260, 270]\n",
      "[13, 28, 48, 70, 72, 52, 22, 16]\n",
      "[0.04474918927599397, 0.08350850081496819, 0.15564661369023178, 0.2129449204785182, 0.21386964487383, 0.15768332273832403, 0.08533800061895674, 0.046259807509177076]\n"
     ]
    }
   ],
   "source": [
    "def merge_intervals(intervals, values, prob, n):\n",
    "    while True:\n",
    "        idx = crit_pirson_lim(values, n, prob)\n",
    "        if idx is None:\n",
    "            break\n",
    "        elif idx == 0 or idx == 1:\n",
    "            values[idx + 1] += values[idx]\n",
    "            prob[idx + 1] += prob[idx]\n",
    "            values.pop(idx)\n",
    "            prob.pop(idx)\n",
    "            intervals.pop(idx + 1)\n",
    "        else:\n",
    "            temp_val = values[idx]\n",
    "            values.pop(idx)\n",
    "            intervals.pop(idx - 1)\n",
    "            values[idx - 1] += temp_val\n",
    "            prob[idx - 1] += prob[idx]\n",
    "            prob.pop(idx)\n",
    "            if len(values) == 1:\n",
    "                break\n",
    "\n",
    "merge_intervals(intervals, values, probabilities, sum(values))\n",
    "print(intervals)\n",
    "print(values)\n",
    "print(probabilities)"
   ]
  },
  {
   "cell_type": "code",
   "execution_count": 7,
   "id": "7a1691da",
   "metadata": {},
   "outputs": [],
   "source": [
    "def calculate_df(num_classes, calculated_param):\n",
    "    return num_classes - calculated_param - 1\n",
    "df = calculate_df(len(intervals) - 1, calculated_param)\n",
    "X_crit = scipy.stats.chi2.isf(alpha, df)"
   ]
  },
  {
   "cell_type": "code",
   "execution_count": 23,
   "id": "4c479dd3",
   "metadata": {},
   "outputs": [
    {
     "name": "stdout",
     "output_type": "stream",
     "text": [
      "Х2 критичне: 9.99573227355399\n",
      "Х2 емпіричне: 1.6516000009137015\n",
      "Гіпотеза приймається\n"
     ]
    }
   ],
   "source": [
    "def pirson(values, probabilities):\n",
    "    X_emp = 0\n",
    "    n = sum(values)\n",
    "    for i in range(len(values)):\n",
    "        X_emp += ((values[i] - n * probabilities[i]) ** 2) / (n * probabilities[i])\n",
    "    return X_emp\n",
    "X_emp = pirson(values, probabilities)\n",
    "print(f\"Х2 критичне: {X_crit}\")\n",
    "print(f\"Х2 емпіричне: {X_emp}\")\n",
    "if X_emp > X_crit:\n",
    "    print(\"Гіпотеза не приймається\")\n",
    "else: print(\"Гіпотеза приймається\")"
   ]
  },
  {
   "cell_type": "markdown",
   "id": "59a9f541",
   "metadata": {},
   "source": [
    "# Завдання 2"
   ]
  },
  {
   "cell_type": "code",
   "execution_count": 24,
   "id": "a9354d86",
   "metadata": {},
   "outputs": [
    {
     "data": {
      "image/png": "[encoded data removed]",
      "text/plain": [
       "<Figure size 640x480 with 1 Axes>"
      ]
     },
     "metadata": {},
     "output_type": "display_data"
    }
   ],
   "source": [
    "def read_data(file_path):\n",
    "    with open(file_path, 'r') as file:\n",
    "        lines = file.readlines()\n",
    "        intervals = [int(x) for x in lines[0].strip().split(',')]\n",
    "        values = [int(x) for x in lines[1].strip().split(',')]\n",
    "\n",
    "    return intervals, values\n",
    "\n",
    "intervals, values = read_data('data_2.txt')\n",
    "plt.stairs(values, intervals, fill=True, edgecolor='black')\n",
    "plt.xlabel('Значення')\n",
    "plt.ylabel('Частота')\n",
    "plt.xticks(intervals)\n",
    "plt.grid(True)\n",
    "plt.show()"
   ]
  },
  {
   "cell_type": "code",
   "execution_count": 25,
   "id": "e8564e10",
   "metadata": {},
   "outputs": [
    {
     "name": "stdout",
     "output_type": "stream",
     "text": [
      "Хочете ввести параметри розподілу вручну або оцінити їх на основі вибіркових даних? (в/о) о\n",
      "Введіть рівень значущості (альфа): 0.005\n"
     ]
    }
   ],
   "source": [
    "calculated_param = 0\n",
    "def estimate_parameters(values, intervals):\n",
    "    n = sum(values)\n",
    "    mean = sum([((x + y) / 2) * z for y, x, z in zip(intervals[:-1], intervals[1:], values)]) / n\n",
    "    lambd = 1 / mean\n",
    "    alpha = 0.05\n",
    "    return lambd, mean\n",
    "\n",
    "def manual_input():\n",
    "    lambd = float(input(\"Введіть лямбду: \"))\n",
    "    return lambd\n",
    "\n",
    "user_input = input(\"Хочете ввести параметри розподілу вручну або оцінити їх на основі вибіркових даних? (в/о) \")\n",
    "\n",
    "if user_input.lower() == 'в':\n",
    "    lambd = manual_input()\n",
    "    mean = sum([(x - y) * z for y, x, z in zip(intervals[:-1], intervals[1:], values)]) / sum(values)\n",
    "else:\n",
    "    lambd, mean = estimate_parameters(values, intervals)\n",
    "    calculated_param = 2\n",
    "alpha = float(input(\"Введіть рівень значущості (альфа): \"))\n",
    "print(f\"Інтервали: {intervals}\")\n",
    "print(f\"Значення: {values}\")\n",
    "print(f\"Лямбда: {round(lambd, 3)}\")\n",
    "print(f\"Рівень значущості (альфа): {alpha}\")"
   ]
  },
  {
   "cell_type": "code",
   "execution_count": 12,
   "id": "33669e7a",
   "metadata": {},
   "outputs": [
    {
     "data": {
      "text/plain": [
       "[0.298924845244395,\n",
       " 0.2095687821400095,\n",
       " 0.1469234663707507,\n",
       " 0.10300439192310418,\n",
       " 0.07221382000799714,\n",
       " 0.050627315037599985,\n",
       " 0.03549355272484622,\n",
       " 0.024883647969397793,\n",
       " 0.01744530735102956,\n",
       " 0.0409148712308699]"
      ]
     },
     "execution_count": 12,
     "metadata": {},
     "output_type": "execute_result"
    }
   ],
   "source": [
    "exp_function = lambda x, lambd: 1 - np.exp(-lambd * x)\n",
    "probabilities = []\n",
    "for x in range(len(intervals) - 1):\n",
    "    probabilities.append(exp_function(intervals[x + 1], lambd) - exp_function(intervals[x], lambd))\n",
    "probabilities[-1] = (1 - sum(probabilities[:-1]))\n",
    "probabilities"
   ]
  },
  {
   "cell_type": "code",
   "execution_count": 13,
   "id": "67a4736b",
   "metadata": {},
   "outputs": [
    {
     "name": "stdout",
     "output_type": "stream",
     "text": [
      "[0, 6, 12, 18, 24, 30, 36, 42, 48, 54, 60]\n",
      "[518, 392, 284, 205, 156, 120, 86, 61, 44, 34]\n",
      "[0.298924845244395, 0.2095687821400095, 0.1469234663707507, 0.10300439192310418, 0.07221382000799714, 0.050627315037599985, 0.03549355272484622, 0.024883647969397793, 0.01744530735102956, 0.0409148712308699]\n"
     ]
    }
   ],
   "source": [
    "merge_intervals(intervals, values, probabilities, sum(values))\n",
    "print(intervals)\n",
    "print(values)\n",
    "print(probabilities)"
   ]
  },
  {
   "cell_type": "code",
   "execution_count": 14,
   "id": "5ed8f645",
   "metadata": {},
   "outputs": [
    {
     "data": {
      "text/plain": [
       "9.99573227355399"
      ]
     },
     "execution_count": 14,
     "metadata": {},
     "output_type": "execute_result"
    }
   ],
   "source": [
    "df = calculate_df(len(intervals) - 1, calculated_param)\n",
    "X_crit = scipy.stats.expon.isf(alpha, df)\n",
    "X_crit"
   ]
  },
  {
   "cell_type": "code",
   "execution_count": 16,
   "id": "22ad750c",
   "metadata": {},
   "outputs": [
    {
     "name": "stdout",
     "output_type": "stream",
     "text": [
      "Гіпотеза не приймається\n"
     ]
    }
   ],
   "source": [
    "X_emp = pirson(values, probabilities)\n",
    "if X_emp > X_crit:\n",
    "    print(\"Гіпотеза не приймається\")\n",
    "else: print(\"Гіпотеза приймається\")"
   ]
  },
  {
   "cell_type": "code",
   "execution_count": null,
   "id": "97590290",
   "metadata": {},
   "outputs": [],
   "source": []
  }
 ],
 "metadata": {
  "kernelspec": {
   "display_name": "Python 3 (ipykernel)",
   "language": "python",
   "name": "python3"
  },
  "language_info": {
   "codemirror_mode": {
    "name": "ipython",
    "version": 3
   },
   "file_extension": ".py",
   "mimetype": "text/x-python",
   "name": "python",
   "nbconvert_exporter": "python",
   "pygments_lexer": "ipython3",
   "version": "3.11.5"
  }
 },
 "nbformat": 4,
 "nbformat_minor": 5
}
